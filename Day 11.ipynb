{
 "cells": [
  {
   "cell_type": "code",
   "execution_count": 1,
   "metadata": {},
   "outputs": [],
   "source": [
    "import numpy as np\n",
    "import matplotlib.pyplot as plt"
   ]
  },
  {
   "cell_type": "code",
   "execution_count": 2,
   "metadata": {},
   "outputs": [],
   "source": [
    "values = np.genfromtxt('data/input11.txt', dtype='str')\n",
    "shape = [len(values)+2, len(values[0])+2]"
   ]
  },
  {
   "cell_type": "code",
   "execution_count": 3,
   "metadata": {},
   "outputs": [],
   "source": [
    "v = np.zeros(shape, dtype='str')\n",
    "v[:,:] = \".\"\n",
    "\n",
    "for i, row in enumerate(values):\n",
    "    v[i+1] = np.r_[[\".\"], list(row), [\".\"]]"
   ]
  },
  {
   "cell_type": "code",
   "execution_count": 4,
   "metadata": {},
   "outputs": [
    {
     "name": "stdout",
     "output_type": "stream",
     "text": [
      "soln: 2249\n",
      "102\n"
     ]
    }
   ],
   "source": [
    "\n",
    "k = 0\n",
    "while True:\n",
    "    v2 = np.copy(v)\n",
    "    for i in range(1, shape[0]-1):\n",
    "        for j in range(1, shape[1]-1):\n",
    "            if v[i, j] == \".\":\n",
    "                continue\n",
    "            elif (v[i, j] == \"#\") and (np.sum(v[i-1:i+2, j-1:j+2] == \"#\") >= 5):\n",
    "                v2[i, j] = \"L\"\n",
    "            elif (v[i, j] == \"L\") and (np.sum(v[i-1:i+2, j-1:j+2] == \"#\") == 0):\n",
    "                v2[i, j] = \"#\"\n",
    "    if np.all(v2 == v):\n",
    "        print(f'soln: {np.sum(v == \"#\")}')\n",
    "        break\n",
    "    else:\n",
    "        k += 1\n",
    "        v = np.copy(v2)\n",
    "#         plt.figure()\n",
    "#         plt.imshow(v2 == '#')\n",
    "print(k)   "
   ]
  },
  {
   "cell_type": "code",
   "execution_count": 9,
   "metadata": {},
   "outputs": [
    {
     "name": "stdout",
     "output_type": "stream",
     "text": [
      "soln: 2023\n",
      "85\n"
     ]
    }
   ],
   "source": [
    "# part 2\n",
    "v = np.zeros(shape, dtype='str')\n",
    "v[:,:] = \"X\"\n",
    "\n",
    "for i, row in enumerate(values):\n",
    "    v[i+1] = np.r_[[\"X\"], list(row), [\"X\"]]\n",
    "\n",
    "\n",
    "# 8 positions\n",
    "# e a g\n",
    "# c 0 d\n",
    "# h b f\n",
    "\n",
    "def get_localview(arr, i, j):\n",
    "    localview = np.zeros([3, 3], dtype='str')\n",
    "    localview[1, 1] = arr[i, j]\n",
    "    \n",
    "    col = arr[:, j]\n",
    "    row = arr[i, :]\n",
    "    \n",
    "    # pos a and b\n",
    "    localview[0, 1] = col[:i][col[:i] != '.'][-1]\n",
    "    localview[2, 1] = col[i+1:][col[i+1:] != '.'][0]\n",
    "    \n",
    "    # pos c and d\n",
    "    localview[1, 0] = row[:j][row[:j] != '.'][-1]\n",
    "    localview[1, 2] = row[j+1:][row[j+1:] != '.'][0]\n",
    "    \n",
    "    ltr_diag = np.diagonal(arr, offset=(j - i))\n",
    "    rtl_diag = np.diagonal(np.rot90(arr), offset=(i + j + 1 - shape[1]))\n",
    "    \n",
    "    k = np.where( j >= i, i, j)\n",
    "    \n",
    "    # pos e and f\n",
    "    localview[0, 0] = ltr_diag[:k][ltr_diag[:k] != '.'][-1]\n",
    "    localview[2, 2] = ltr_diag[k+1:][ltr_diag[k+1:] != '.'][0]\n",
    "    \n",
    "    \n",
    "    imod = shape[0] - i - 1\n",
    "    jmod = shape[1] - j - 1\n",
    "    \n",
    "    k = np.where( jmod >= i, i, jmod)\n",
    "#     print(k)\n",
    "    \n",
    "    # pos g and h\n",
    "    localview[0, 2] = rtl_diag[:k][rtl_diag[:k] != '.'][-1]\n",
    "    localview[2, 0] = rtl_diag[k+1:][rtl_diag[k+1:] != '.'][0]\n",
    "    \n",
    "    return localview\n",
    "    \n",
    "    \n",
    "\n",
    "\n",
    "k = 0\n",
    "while True:\n",
    "    v2 = np.copy(v)\n",
    "    for i in range(1, shape[0]-1):\n",
    "        for j in range(1, shape[1]-1):\n",
    "            if v[i, j] == \".\":\n",
    "                continue\n",
    "            localview = get_localview(v, i, j)\n",
    "            if (v[i, j] == \"#\") and (np.sum(localview == \"#\") >= 6):\n",
    "                v2[i, j] = \"L\"\n",
    "            elif (v[i, j] == \"L\") and (np.sum(localview == \"#\") == 0):\n",
    "                v2[i, j] = \"#\"\n",
    "    if np.all(v2 == v):\n",
    "        print(f'soln: {np.sum(v == \"#\")}')\n",
    "        break\n",
    "    else:\n",
    "        k += 1\n",
    "        v = np.copy(v2)\n",
    "print(k)   \n",
    "\n"
   ]
  },
  {
   "cell_type": "code",
   "execution_count": null,
   "metadata": {},
   "outputs": [],
   "source": []
  },
  {
   "cell_type": "code",
   "execution_count": null,
   "metadata": {},
   "outputs": [],
   "source": []
  },
  {
   "cell_type": "code",
   "execution_count": null,
   "metadata": {},
   "outputs": [],
   "source": []
  },
  {
   "cell_type": "code",
   "execution_count": null,
   "metadata": {},
   "outputs": [],
   "source": []
  },
  {
   "cell_type": "code",
   "execution_count": null,
   "metadata": {},
   "outputs": [],
   "source": []
  },
  {
   "cell_type": "code",
   "execution_count": null,
   "metadata": {},
   "outputs": [],
   "source": []
  },
  {
   "cell_type": "code",
   "execution_count": null,
   "metadata": {},
   "outputs": [],
   "source": []
  },
  {
   "cell_type": "code",
   "execution_count": null,
   "metadata": {},
   "outputs": [],
   "source": []
  }
 ],
 "metadata": {
  "kernelspec": {
   "display_name": "Python 3",
   "language": "python",
   "name": "python3"
  },
  "language_info": {
   "codemirror_mode": {
    "name": "ipython",
    "version": 3
   },
   "file_extension": ".py",
   "mimetype": "text/x-python",
   "name": "python",
   "nbconvert_exporter": "python",
   "pygments_lexer": "ipython3",
   "version": "3.6.10"
  }
 },
 "nbformat": 4,
 "nbformat_minor": 4
}
