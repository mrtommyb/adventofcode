{
 "cells": [
  {
   "cell_type": "code",
   "execution_count": 109,
   "metadata": {},
   "outputs": [],
   "source": [
    "import numpy as np\n",
    "from tqdm import tqdm_notebook"
   ]
  },
  {
   "cell_type": "code",
   "execution_count": null,
   "metadata": {},
   "outputs": [],
   "source": []
  },
  {
   "cell_type": "code",
   "execution_count": 54,
   "metadata": {},
   "outputs": [
    {
     "name": "stdout",
     "output_type": "stream",
     "text": [
      "soln : 273\n"
     ]
    }
   ],
   "source": [
    "numbers = np.array([1,12,0,20,8,16])\n",
    "for i in range(6, 2020):\n",
    "    previous  = numbers[-1]\n",
    "    if previous not in numbers[:-1]:\n",
    "        numbers = np.concatenate((numbers, [0]))\n",
    "    else:\n",
    "        previousprevious = np.argwhere(numbers[:-1] == previous)[-1]\n",
    "        numbers = np.concatenate((numbers, [i - previousprevious-1]), axis=None)\n",
    "print(f\"soln : {numbers[-1]}\")"
   ]
  },
  {
   "cell_type": "code",
   "execution_count": 110,
   "metadata": {},
   "outputs": [
    {
     "name": "stderr",
     "output_type": "stream",
     "text": [
      "<ipython-input-110-7561523ab9e8>:8: TqdmDeprecationWarning: This function will be removed in tqdm==5.0.0\n",
      "Please use `tqdm.notebook.tqdm` instead of `tqdm.tqdm_notebook`\n",
      "  for i in tqdm_notebook(range(6, 30000000)):\n"
     ]
    },
    {
     "data": {
      "application/vnd.jupyter.widget-view+json": {
       "model_id": "d80f904aece14f3b91445300820057c1",
       "version_major": 2,
       "version_minor": 0
      },
      "text/plain": [
       "HBox(children=(HTML(value=''), FloatProgress(value=0.0, max=29999994.0), HTML(value='')))"
      ]
     },
     "metadata": {},
     "output_type": "display_data"
    },
    {
     "name": "stdout",
     "output_type": "stream",
     "text": [
      "\n",
      "soln : 47205\n"
     ]
    }
   ],
   "source": [
    "numbers = [1,12,0,20,8,16]\n",
    "age_dict = {}\n",
    "\n",
    "for i,n in enumerate(numbers[:-1]):\n",
    "    age_dict[n] = i\n",
    "\n",
    "previous = numbers[-1]\n",
    "for i in tqdm_notebook(range(6, 30000000)):\n",
    "    if previous in age_dict.keys():\n",
    "        current = i - age_dict[previous] - 1\n",
    "    else:\n",
    "        current = 0\n",
    "    age_dict[previous] = i-1\n",
    "    previous = current\n",
    "print(f\"soln : {current}\")"
   ]
  },
  {
   "cell_type": "code",
   "execution_count": null,
   "metadata": {},
   "outputs": [],
   "source": []
  },
  {
   "cell_type": "code",
   "execution_count": null,
   "metadata": {},
   "outputs": [],
   "source": []
  },
  {
   "cell_type": "code",
   "execution_count": null,
   "metadata": {},
   "outputs": [],
   "source": []
  }
 ],
 "metadata": {
  "kernelspec": {
   "display_name": "Python 3",
   "language": "python",
   "name": "python3"
  },
  "language_info": {
   "codemirror_mode": {
    "name": "ipython",
    "version": 3
   },
   "file_extension": ".py",
   "mimetype": "text/x-python",
   "name": "python",
   "nbconvert_exporter": "python",
   "pygments_lexer": "ipython3",
   "version": "3.8.5"
  }
 },
 "nbformat": 4,
 "nbformat_minor": 4
}
