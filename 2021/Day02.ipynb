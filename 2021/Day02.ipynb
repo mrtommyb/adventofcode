{
 "cells": [
  {
   "cell_type": "code",
   "execution_count": 12,
   "id": "cffd3b65",
   "metadata": {},
   "outputs": [],
   "source": [
    "fn = '../data2021/input02.txt'"
   ]
  },
  {
   "cell_type": "code",
   "execution_count": 15,
   "id": "46d8010e",
   "metadata": {},
   "outputs": [
    {
     "name": "stdout",
     "output_type": "stream",
     "text": [
      "[2033, 750]\n",
      "1524750\n"
     ]
    }
   ],
   "source": [
    "# part 1\n",
    "def change_position(command, mag, position):\n",
    "    if command == \"forward\":\n",
    "        position[0] += int(mag)\n",
    "    elif command == \"down\":\n",
    "        position[1] += int(mag)\n",
    "    elif command == \"up\":\n",
    "        position[1] -= int(mag)\n",
    "    return position\n",
    "\n",
    "position = [0,0]\n",
    "\n",
    "with open(fn, \"r\") as file:\n",
    "    \n",
    "    for line in file:\n",
    "        command, mag = line.replace(\"\\n\",\"\").split(\" \")\n",
    "        position = change_position(command, mag, position)\n",
    "print(position)\n",
    "print(position[0] * position[1])"
   ]
  },
  {
   "cell_type": "code",
   "execution_count": 16,
   "id": "7e2a21b1",
   "metadata": {},
   "outputs": [
    {
     "name": "stdout",
     "output_type": "stream",
     "text": [
      "[2033, 783289, 750]\n",
      "1592426537\n"
     ]
    }
   ],
   "source": [
    "# part 2\n",
    "\n",
    "def change_position(command, mag, position):\n",
    "    if command == \"forward\":\n",
    "        position[0] += int(mag)\n",
    "        position[1] += int(mag) * position[2]\n",
    "    elif command == \"down\":\n",
    "        position[2] += int(mag)\n",
    "    elif command == \"up\":\n",
    "        position[2] -= int(mag)\n",
    "    return position\n",
    "\n",
    "position = [0,0,0]\n",
    "\n",
    "with open(fn, \"r\") as file:\n",
    "    \n",
    "    for line in file:\n",
    "        command, mag = line.replace(\"\\n\",\"\").split(\" \")\n",
    "        position = change_position(command, mag, position)\n",
    "print(position)\n",
    "print(position[0] * position[1])"
   ]
  },
  {
   "cell_type": "code",
   "execution_count": null,
   "id": "e7f0f1e7",
   "metadata": {},
   "outputs": [],
   "source": []
  }
 ],
 "metadata": {
  "kernelspec": {
   "display_name": "Python 3 (ipykernel)",
   "language": "python",
   "name": "python3"
  },
  "language_info": {
   "codemirror_mode": {
    "name": "ipython",
    "version": 3
   },
   "file_extension": ".py",
   "mimetype": "text/x-python",
   "name": "python",
   "nbconvert_exporter": "python",
   "pygments_lexer": "ipython3",
   "version": "3.8.8"
  }
 },
 "nbformat": 4,
 "nbformat_minor": 5
}
