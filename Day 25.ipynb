{
 "cells": [
  {
   "cell_type": "code",
   "execution_count": 44,
   "metadata": {},
   "outputs": [],
   "source": [
    "puzzle_input = [8458505, 16050997]"
   ]
  },
  {
   "cell_type": "markdown",
   "metadata": {},
   "source": [
    "Then, a number of times called the loop size, perform the following steps:\n",
    "\n",
    "*    Set the value to itself multiplied by the subject number.\n",
    "*    Set the value to the remainder after dividing the value by 20201227.\n",
    "\n",
    "The card always uses a specific, secret loop size when it transforms a subject number. The door always uses a different, secret loop size.\n",
    "\n",
    "The cryptographic handshake works like this:\n",
    "\n",
    "*    The card transforms the subject number of 7 according to the card's secret loop size. The result is called the card's public key.\n",
    "*    The door transforms the subject number of 7 according to the door's secret loop size. The result is called the door's public key.\n",
    "*    The card and door use the wireless RFID signal to transmit the two public keys (your puzzle input) to the other device. Now, the card has the door's public key, and the door has the card's public key. Because you can eavesdrop on the signal, you have both public keys, but neither device's loop size.\n",
    "*    The card transforms the subject number of the door's public key according to the card's loop size. The result is the encryption key.\n",
    "*    The door transforms the subject number of the card's public key according to the door's loop size. The result is the same encryption key as the card calculated.\n"
   ]
  },
  {
   "cell_type": "code",
   "execution_count": 48,
   "metadata": {},
   "outputs": [],
   "source": [
    "card_key = puzzle_input[0]\n",
    "door_key = puzzle_input[1]"
   ]
  },
  {
   "cell_type": "code",
   "execution_count": 49,
   "metadata": {},
   "outputs": [],
   "source": [
    "def get_next_value(v, subject_number):\n",
    "    v *= subject_number\n",
    "    v %= 20201227\n",
    "    return v"
   ]
  },
  {
   "cell_type": "code",
   "execution_count": 50,
   "metadata": {},
   "outputs": [],
   "source": [
    "value = 1\n",
    "subject_number = 7\n",
    "i = 0\n",
    "done = 0\n",
    "while True:\n",
    "    i += 1\n",
    "    value = get_next_value(value, subject_number)\n",
    "    if value == card_key:\n",
    "        card_loop = i\n",
    "        done += 1\n",
    "        if done == 2:\n",
    "            break\n",
    "    elif value == door_key:\n",
    "        door_loop = i\n",
    "        done += 1\n",
    "        if done == 2:\n",
    "            break"
   ]
  },
  {
   "cell_type": "code",
   "execution_count": 51,
   "metadata": {},
   "outputs": [],
   "source": [
    "value = 1\n",
    "subject_number = door_key\n",
    "loop_size = card_loop\n",
    "\n",
    "for i in range(loop_size):\n",
    "    value = get_next_value(value, subject_number)\n",
    "card_encrypt = value"
   ]
  },
  {
   "cell_type": "code",
   "execution_count": 52,
   "metadata": {},
   "outputs": [],
   "source": [
    "value = 1\n",
    "subject_number = card_key\n",
    "loop_size = door_loop\n",
    "\n",
    "for i in range(loop_size):\n",
    "    value = get_next_value(value, subject_number)\n",
    "door_encrypt = value"
   ]
  },
  {
   "cell_type": "code",
   "execution_count": 55,
   "metadata": {},
   "outputs": [
    {
     "name": "stdout",
     "output_type": "stream",
     "text": [
      "soln: 448851, verify: True\n"
     ]
    }
   ],
   "source": [
    "print(f\"soln: {card_encrypt}, verify: {card_encrypt == door_encrypt}\")"
   ]
  },
  {
   "cell_type": "code",
   "execution_count": null,
   "metadata": {},
   "outputs": [],
   "source": []
  },
  {
   "cell_type": "code",
   "execution_count": null,
   "metadata": {},
   "outputs": [],
   "source": []
  },
  {
   "cell_type": "code",
   "execution_count": null,
   "metadata": {},
   "outputs": [],
   "source": []
  },
  {
   "cell_type": "code",
   "execution_count": null,
   "metadata": {},
   "outputs": [],
   "source": []
  }
 ],
 "metadata": {
  "kernelspec": {
   "display_name": "Python 3",
   "language": "python",
   "name": "python3"
  },
  "language_info": {
   "codemirror_mode": {
    "name": "ipython",
    "version": 3
   },
   "file_extension": ".py",
   "mimetype": "text/x-python",
   "name": "python",
   "nbconvert_exporter": "python",
   "pygments_lexer": "ipython3",
   "version": "3.8.5"
  }
 },
 "nbformat": 4,
 "nbformat_minor": 4
}
