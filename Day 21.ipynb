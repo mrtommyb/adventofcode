{
 "cells": [
  {
   "cell_type": "code",
   "execution_count": 134,
   "metadata": {},
   "outputs": [],
   "source": [
    "from collections import defaultdict"
   ]
  },
  {
   "cell_type": "code",
   "execution_count": 135,
   "metadata": {},
   "outputs": [],
   "source": [
    "fn = \"data/input21.txt\""
   ]
  },
  {
   "cell_type": "code",
   "execution_count": 136,
   "metadata": {},
   "outputs": [],
   "source": [
    "ing_d = defaultdict(set)\n",
    "alleg_d = defaultdict(set)\n",
    "def read_line(line):\n",
    "    line = line.replace(\"\\n\", \"\")\n",
    "    part1 = line.split(\" (\")[0]\n",
    "    ingrediants = part1.split(\" \")\n",
    "    allergies = list(line.replace(\")\", \"\").split(\"contains \")[1].split(\", \"))\n",
    "    return ingrediants, allergies\n",
    "\n",
    "def make_ing_dict(ingrediants, allergies, ing_d, alleg_d):\n",
    "    for ing in ingrediants:\n",
    "        [ing_d[ing].add(x) for x in allergies]\n",
    "    for alleg in allergies:\n",
    "        if alleg in alleg_d.keys():\n",
    "            alleg_d[alleg] = alleg_d[alleg].intersection(ingrediants)\n",
    "        else:\n",
    "            [alleg_d[alleg].add(x) for x in ingrediants]\n",
    "    return ing_d, alleg_d\n",
    "\n",
    "with open(fn, \"r\") as file:\n",
    "    for i,line in enumerate(file):\n",
    "        if line != \"\\n\":\n",
    "            ingrediants, allergies = read_line(line)\n",
    "            ing_d, alleg_d = make_ing_dict(ingrediants, allergies, ing_d, alleg_d)"
   ]
  },
  {
   "cell_type": "code",
   "execution_count": 137,
   "metadata": {},
   "outputs": [],
   "source": [
    "final_d = {}\n",
    "not_solved = set(alleg_d.keys())    \n",
    "\n",
    "while len(not_solved) > 0:\n",
    "    flat_list = [item for sublist in [list(x) for x in final_d.values()] for item in sublist]\n",
    "    for k,v in alleg_d.items():\n",
    "        if k in final_d.keys():\n",
    "            continue\n",
    "        if len(v) == 1:\n",
    "            final_d[k] = v\n",
    "            not_solved.remove(k)\n",
    "        alleg_d[k] = alleg_d[k].difference(flat_list)"
   ]
  },
  {
   "cell_type": "code",
   "execution_count": 138,
   "metadata": {},
   "outputs": [
    {
     "name": "stdout",
     "output_type": "stream",
     "text": [
      "soln: 2317\n"
     ]
    }
   ],
   "source": [
    "n = 0\n",
    "with open(fn, \"r\") as file:\n",
    "    for i,line in enumerate(file):\n",
    "        if line != \"\\n\":\n",
    "            ingrediants, allergies = read_line(line)\n",
    "            n += len(set(ingrediants).difference(\n",
    "                [item for sublist in [list(x) for x in final_d.values()] for item in sublist]))\n",
    "print(f\"soln: {n}\")"
   ]
  },
  {
   "cell_type": "code",
   "execution_count": 151,
   "metadata": {},
   "outputs": [
    {
     "name": "stdout",
     "output_type": "stream",
     "text": [
      "soln: kbdgs,sqvv,slkfgq,vgnj,brdd,tpd,csfmb,lrnz\n"
     ]
    }
   ],
   "source": [
    "# part 2\n",
    "final_list = [list(final_d[x]) for x in sorted(final_d.keys())]\n",
    "print(\"soln: \" + \",\".join([item for sublist in final_list for item in sublist]))"
   ]
  },
  {
   "cell_type": "code",
   "execution_count": null,
   "metadata": {},
   "outputs": [],
   "source": []
  },
  {
   "cell_type": "code",
   "execution_count": null,
   "metadata": {},
   "outputs": [],
   "source": []
  },
  {
   "cell_type": "code",
   "execution_count": null,
   "metadata": {},
   "outputs": [],
   "source": []
  },
  {
   "cell_type": "code",
   "execution_count": null,
   "metadata": {},
   "outputs": [],
   "source": []
  },
  {
   "cell_type": "code",
   "execution_count": null,
   "metadata": {},
   "outputs": [],
   "source": []
  }
 ],
 "metadata": {
  "kernelspec": {
   "display_name": "Python 3",
   "language": "python",
   "name": "python3"
  },
  "language_info": {
   "codemirror_mode": {
    "name": "ipython",
    "version": 3
   },
   "file_extension": ".py",
   "mimetype": "text/x-python",
   "name": "python",
   "nbconvert_exporter": "python",
   "pygments_lexer": "ipython3",
   "version": "3.8.5"
  }
 },
 "nbformat": 4,
 "nbformat_minor": 4
}
