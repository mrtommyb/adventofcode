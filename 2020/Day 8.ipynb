{
 "cells": [
  {
   "cell_type": "code",
   "execution_count": 232,
   "metadata": {},
   "outputs": [],
   "source": [
    "import numpy as np"
   ]
  },
  {
   "cell_type": "code",
   "execution_count": 233,
   "metadata": {},
   "outputs": [],
   "source": [
    "values = np.genfromtxt(\"data/input08.txt\", dtype='str')"
   ]
  },
  {
   "cell_type": "code",
   "execution_count": 234,
   "metadata": {},
   "outputs": [
    {
     "name": "stdout",
     "output_type": "stream",
     "text": [
      "soln: 1684\n"
     ]
    }
   ],
   "source": [
    "i = 0\n",
    "acc = 0\n",
    "ivals = []\n",
    "while True:\n",
    "    if i in ivals:\n",
    "        break\n",
    "    else:\n",
    "        ivals.append(i)\n",
    "    cmd = values[i][0]\n",
    "    mag = values[i][1]\n",
    "    \n",
    "    if cmd == 'acc':\n",
    "        acc += int(mag)\n",
    "        i += 1\n",
    "    elif cmd == 'nop':\n",
    "        i += 1\n",
    "    elif cmd == 'jmp':\n",
    "        i += int(mag)\n",
    "print(f\"soln: {acc}\")"
   ]
  },
  {
   "cell_type": "code",
   "execution_count": 235,
   "metadata": {},
   "outputs": [
    {
     "data": {
      "text/plain": [
       "array(['acc', '+37'], dtype='<U4')"
      ]
     },
     "execution_count": 235,
     "metadata": {},
     "output_type": "execute_result"
    }
   ],
   "source": [
    "values[0]"
   ]
  },
  {
   "cell_type": "code",
   "execution_count": 236,
   "metadata": {},
   "outputs": [
    {
     "name": "stdout",
     "output_type": "stream",
     "text": [
      "soln: 2188\n"
     ]
    }
   ],
   "source": [
    "values = np.genfromtxt(\"data/input08.txt\", dtype='str')\n",
    "jmp_loc = values.T[0] == 'jmp'\n",
    "nop_loc = values.T[0] == 'nop'\n",
    "\n",
    "for k,j in enumerate(jmp_loc):\n",
    "    values = np.genfromtxt(\"data/input08.txt\", dtype='str')\n",
    "    if j:\n",
    "        v = values[k]\n",
    "        v[0] = 'nop'\n",
    "        values[k] = v\n",
    "        i = 0\n",
    "        acc = 0\n",
    "        ivals = []\n",
    "        while True:\n",
    "            if i == len(jmp_loc)-1:\n",
    "                print(f'soln: {acc}')\n",
    "                break\n",
    "            if i in ivals:\n",
    "                break\n",
    "            else:\n",
    "                ivals.append(i)\n",
    "            cmd = values[i][0]\n",
    "            mag = values[i][1]\n",
    "\n",
    "            if cmd == 'acc':\n",
    "                acc += int(mag)\n",
    "                i += 1\n",
    "            elif cmd == 'nop':\n",
    "                i += 1\n",
    "            elif cmd == 'jmp':\n",
    "                i += int(mag)\n",
    "\n",
    "for k,j in enumerate(nop_loc):\n",
    "    values = np.genfromtxt(\"data/input08.txt\", dtype='str')\n",
    "    if j:\n",
    "        v = values[k]\n",
    "        v[0] = 'jmp'\n",
    "        values[k] = v\n",
    "        i = 0\n",
    "        acc = 0\n",
    "        ivals = []\n",
    "        while True:\n",
    "            if i == len(nop_loc)-1:\n",
    "                print(f'soln: {acc}')\n",
    "                break\n",
    "            if i in ivals:\n",
    "                break\n",
    "            else:\n",
    "                ivals.append(i)\n",
    "            cmd = values[i][0]\n",
    "            mag = values[i][1]\n",
    "\n",
    "            if cmd == 'acc':\n",
    "                acc += int(mag)\n",
    "                i += 1\n",
    "            elif cmd == 'nop':\n",
    "                i += 1\n",
    "            elif cmd == 'jmp':\n",
    "                i += int(mag)"
   ]
  },
  {
   "cell_type": "code",
   "execution_count": null,
   "metadata": {},
   "outputs": [],
   "source": []
  },
  {
   "cell_type": "code",
   "execution_count": null,
   "metadata": {},
   "outputs": [],
   "source": []
  },
  {
   "cell_type": "code",
   "execution_count": null,
   "metadata": {},
   "outputs": [],
   "source": []
  },
  {
   "cell_type": "code",
   "execution_count": null,
   "metadata": {},
   "outputs": [],
   "source": []
  },
  {
   "cell_type": "code",
   "execution_count": null,
   "metadata": {},
   "outputs": [],
   "source": []
  }
 ],
 "metadata": {
  "kernelspec": {
   "display_name": "Python 3",
   "language": "python",
   "name": "python3"
  },
  "language_info": {
   "codemirror_mode": {
    "name": "ipython",
    "version": 3
   },
   "file_extension": ".py",
   "mimetype": "text/x-python",
   "name": "python",
   "nbconvert_exporter": "python",
   "pygments_lexer": "ipython3",
   "version": "3.6.10"
  }
 },
 "nbformat": 4,
 "nbformat_minor": 4
}
