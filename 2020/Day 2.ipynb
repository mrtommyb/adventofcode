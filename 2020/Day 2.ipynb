{
 "cells": [
  {
   "cell_type": "code",
   "execution_count": 2,
   "metadata": {},
   "outputs": [],
   "source": [
    "import numpy as np\n",
    "values = np.genfromtxt('data/input02.txt', dtype='str')"
   ]
  },
  {
   "cell_type": "code",
   "execution_count": 3,
   "metadata": {},
   "outputs": [
    {
     "name": "stdout",
     "output_type": "stream",
     "text": [
      "460\n"
     ]
    }
   ],
   "source": [
    "valid_cnt = 0\n",
    "for i, v in enumerate(values):\n",
    "    rngs = range(int(v[0].split('-')[0]), int(v[0].split('-')[1])+1)\n",
    "    char = v[1].split(':')[0]\n",
    "    char_cnt = len([x for x in sorted(v[2]) if x == char] )\n",
    "    if char_cnt in rngs:\n",
    "        valid_cnt += 1\n",
    "    \n",
    "    \n",
    "print(valid_cnt)  "
   ]
  },
  {
   "cell_type": "code",
   "execution_count": 4,
   "metadata": {},
   "outputs": [
    {
     "name": "stdout",
     "output_type": "stream",
     "text": [
      "251\n"
     ]
    }
   ],
   "source": [
    "valid_cnt = 0\n",
    "for i, v in enumerate(values):\n",
    "    first, last = int(v[0].split('-')[0]) - 1, int(v[0].split('-')[1]) - 1\n",
    "    char = v[1].split(':')[0]\n",
    "    if ((v[2][first] == char) & (v[2][last] != char)) or ((v[2][last] == char) * (v[2][first] != char)):\n",
    "        valid_cnt += 1\n",
    "\n",
    "print(valid_cnt) "
   ]
  },
  {
   "cell_type": "code",
   "execution_count": null,
   "metadata": {},
   "outputs": [],
   "source": []
  }
 ],
 "metadata": {
  "kernelspec": {
   "display_name": "Python 3",
   "language": "python",
   "name": "python3"
  },
  "language_info": {
   "codemirror_mode": {
    "name": "ipython",
    "version": 3
   },
   "file_extension": ".py",
   "mimetype": "text/x-python",
   "name": "python",
   "nbconvert_exporter": "python",
   "pygments_lexer": "ipython3",
   "version": "3.6.10"
  }
 },
 "nbformat": 4,
 "nbformat_minor": 4
}
