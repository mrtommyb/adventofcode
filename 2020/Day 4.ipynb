{
 "cells": [
  {
   "cell_type": "code",
   "execution_count": 11,
   "metadata": {},
   "outputs": [
    {
     "name": "stdout",
     "output_type": "stream",
     "text": [
      "200\n"
     ]
    }
   ],
   "source": [
    "fn = 'data/input04.txt'\n",
    "required = ['byr', 'iyr', 'eyr', 'hgt', 'hcl', 'ecl', 'pid']\n",
    "req_tot = len(required)\n",
    "\n",
    "pass_cnt = 0\n",
    "with open(fn, \"r\") as file:\n",
    "    d = []\n",
    "    for line in file:\n",
    "        if line == '\\n':\n",
    "            req_cnt = 0\n",
    "            for req in required:\n",
    "                if req in d:\n",
    "                    req_cnt +=1\n",
    "            if req_cnt == req_tot:\n",
    "                pass_cnt += 1\n",
    "            d = []\n",
    "        else:\n",
    "            line = line.strip('\\n')\n",
    "            items = line.split(' ')\n",
    "            for item in items:\n",
    "                d.append(item.split(':')[0])\n",
    "print(pass_cnt)"
   ]
  },
  {
   "cell_type": "code",
   "execution_count": null,
   "metadata": {},
   "outputs": [],
   "source": []
  },
  {
   "cell_type": "code",
   "execution_count": 12,
   "metadata": {},
   "outputs": [
    {
     "name": "stdout",
     "output_type": "stream",
     "text": [
      "116\n"
     ]
    }
   ],
   "source": [
    "def check_hcl(hcl):\n",
    "    first = hcl[0] == '#'\n",
    "    if len(hcl) != 7:\n",
    "        return False\n",
    "    for c in hcl[1:]:\n",
    "        if (c in ['a', 'b', 'c', 'd', 'e', 'f']) or (int(c) in range(0,10)):\n",
    "            last = True\n",
    "        else:\n",
    "            last = false\n",
    "    return first * last\n",
    "\n",
    "def check_height(hgt):\n",
    "    if hgt[-2:] == 'cm':\n",
    "        if int(hgt[:-2]) in range(150, 193+1):\n",
    "            return True\n",
    "        else:\n",
    "            return False\n",
    "    elif hgt[-2:] == 'in':\n",
    "        if int(hgt[:-2]) in range(59, 76+1):\n",
    "            return True\n",
    "        else:\n",
    "            return False\n",
    "    else:\n",
    "        return False\n",
    "    \n",
    "\n",
    "def check_pid(pid):\n",
    "    if (len(str(d['pid'])) == 9) and (int(d['pid']) > 0):\n",
    "        return True\n",
    "    else:\n",
    "        return False\n",
    "    \n",
    "\n",
    "fn = 'data/input04.txt'\n",
    "required = ['byr', 'iyr', 'eyr', 'hgt', 'hcl', 'ecl', 'pid']\n",
    "req_tot = len(required)\n",
    "pass_cnt = 0\n",
    "with open(fn, \"r\") as file:\n",
    "    d = {}\n",
    "    for line in file:\n",
    "        if line == '\\n':\n",
    "            req_cnt = 0\n",
    "            for req in required:\n",
    "                if req in d.keys():\n",
    "                    req_cnt +=1\n",
    "            if req_cnt == req_tot:\n",
    "                \n",
    "                if ((int(d['byr']) in range(1920, 2002+1)) and\n",
    "                    (int(d['iyr']) in range(2010, 2020+1)) and\n",
    "                    (int(d['eyr']) in range(2020, 2030+1)) and\n",
    "                    (str(d['ecl']) in ['amb', 'blu', 'brn', 'gry', 'grn', 'hzl', 'oth']) and\n",
    "                    check_pid(d['pid']) and check_height(d['hgt']) and check_hcl(d['hcl'])):\n",
    "\n",
    "                    pass_cnt += 1\n",
    "#                     print(d)\n",
    "#                     print(d['eyr'])\n",
    "                    \n",
    "            d = {}\n",
    "        else:\n",
    "            line = line.strip('\\n')\n",
    "            items = line.split(' ')\n",
    "            for item in items:\n",
    "                d[item.split(':')[0]] = item.split(':')[1]\n",
    "\n",
    "\n",
    "\n",
    "print(pass_cnt)"
   ]
  },
  {
   "cell_type": "code",
   "execution_count": null,
   "metadata": {},
   "outputs": [],
   "source": []
  }
 ],
 "metadata": {
  "kernelspec": {
   "display_name": "Python 3",
   "language": "python",
   "name": "python3"
  },
  "language_info": {
   "codemirror_mode": {
    "name": "ipython",
    "version": 3
   },
   "file_extension": ".py",
   "mimetype": "text/x-python",
   "name": "python",
   "nbconvert_exporter": "python",
   "pygments_lexer": "ipython3",
   "version": "3.6.10"
  }
 },
 "nbformat": 4,
 "nbformat_minor": 4
}
