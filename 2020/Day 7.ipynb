{
 "cells": [
  {
   "cell_type": "code",
   "execution_count": 1,
   "metadata": {},
   "outputs": [],
   "source": [
    "import re"
   ]
  },
  {
   "cell_type": "code",
   "execution_count": 4,
   "metadata": {},
   "outputs": [
    {
     "name": "stdout",
     "output_type": "stream",
     "text": [
      "soln:144\n"
     ]
    }
   ],
   "source": [
    "fn = 'data/input07.txt'\n",
    "\n",
    "everything = {}\n",
    "# get everything\n",
    "with open(fn, \"r\") as file:\n",
    "    for line in file:\n",
    "        key = line.split(\" bags contain \")[0]\n",
    "        cnts = [x.replace(\", \", \"\").split(\" \")[0] for x in re.split(\"bags|bag\", re.split(\" bags contain \", line.replace('.\\n', ''))[1])\n",
    "                        if x != '']\n",
    "        clrs = [' '.join(x.replace(\", \", \"\").rstrip().split(\" \")[1:]) for x in re.split(\"bags|bag\", re.split(\" bags contain \", line.replace('.\\n', ''))[1])\n",
    "                        if x != '']\n",
    "        # everything is dict of dicts\n",
    "        everything[key] = dict(zip(clrs, cnts))\n",
    "\n",
    "\n",
    "# now find bags that have shiny gold\n",
    "# this probably needs recursion\n",
    "def recursive_search(startkey, keylist):\n",
    "    for k, v in everything.items():\n",
    "        if startkey in v.keys():\n",
    "#             print(startkey, k)\n",
    "            if k not in keylist:\n",
    "                keylist.append(k)\n",
    "                keylist = recursive_search(k, keylist)\n",
    "\n",
    "    return keylist\n",
    "            \n",
    "\n",
    "startkey= \"shiny gold\"\n",
    "print(f'soln:{len(recursive_search(startkey, keylist=[]))}')\n",
    "            "
   ]
  },
  {
   "cell_type": "code",
   "execution_count": 5,
   "metadata": {},
   "outputs": [
    {
     "name": "stdout",
     "output_type": "stream",
     "text": [
      "soln:5956\n"
     ]
    }
   ],
   "source": [
    "\n",
    "\n",
    "# get everything\n",
    "with open(fn, \"r\") as file:\n",
    "    for line in file:\n",
    "        key = line.split(\" bags contain \")[0]\n",
    "        cnts = [x.replace(\", \", \"\").split(\" \")[0] for x in re.split(\"bags|bag\", re.split(\" bags contain \", line.replace('.\\n', ''))[1])\n",
    "                        if x != '']\n",
    "        clrs = [' '.join(x.replace(\", \", \"\").rstrip().split(\" \")[1:]) for x in re.split(\"bags|bag\", re.split(\" bags contain \", line.replace('.\\n', ''))[1])\n",
    "                        if x != '']\n",
    "        everything[key] = dict(zip(clrs, cnts))\n",
    "\n",
    "        \n",
    "def recursive_search(startkey, nbags):\n",
    "    for k,v in everything[startkey].items():\n",
    "#         print(k, v)\n",
    "        if v == 'no':\n",
    "            continue\n",
    "        else:\n",
    "            for i in range(int(v)):\n",
    "                nbags += 1\n",
    "                nbags = recursive_search(k, nbags)\n",
    "    return nbags\n",
    "\n",
    "startkey= \"shiny gold\"\n",
    "print(f'soln:{recursive_search(startkey, nbags=0)}')"
   ]
  },
  {
   "cell_type": "code",
   "execution_count": null,
   "metadata": {},
   "outputs": [],
   "source": []
  }
 ],
 "metadata": {
  "kernelspec": {
   "display_name": "Python 3",
   "language": "python",
   "name": "python3"
  },
  "language_info": {
   "codemirror_mode": {
    "name": "ipython",
    "version": 3
   },
   "file_extension": ".py",
   "mimetype": "text/x-python",
   "name": "python",
   "nbconvert_exporter": "python",
   "pygments_lexer": "ipython3",
   "version": "3.6.10"
  }
 },
 "nbformat": 4,
 "nbformat_minor": 4
}
