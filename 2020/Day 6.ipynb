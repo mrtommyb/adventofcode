{
 "cells": [
  {
   "cell_type": "code",
   "execution_count": 2,
   "metadata": {},
   "outputs": [
    {
     "name": "stdout",
     "output_type": "stream",
     "text": [
      "6930\n"
     ]
    }
   ],
   "source": [
    "fn = 'data/input06.txt'\n",
    "totalsum = 0\n",
    "with open(fn, \"r\") as file:\n",
    "    d = ''\n",
    "    for line in file:\n",
    "        if line == '\\n':\n",
    "            totalsum += len(set(d))\n",
    "#             print(d, len(set(d)))\n",
    "            d = ''\n",
    "        else:\n",
    "            line = line.strip('\\n')\n",
    "            items = line.replace(' ', '')\n",
    "            d += items\n",
    "\n",
    "print(totalsum)"
   ]
  },
  {
   "cell_type": "code",
   "execution_count": 4,
   "metadata": {},
   "outputs": [
    {
     "name": "stdout",
     "output_type": "stream",
     "text": [
      "3585\n"
     ]
    }
   ],
   "source": [
    "fn = 'data/input06.txt'\n",
    "totalsum = 0\n",
    "\n",
    "with open(fn, \"r\") as file:\n",
    "    d = 'lpokmnjiuhbvgytfcxdreszawq'\n",
    "    for line in file:\n",
    "        if line == '\\n':\n",
    "            totalsum += len(d)\n",
    "            d = 'lpokmnjiuhbvgytfcxdreszawq'\n",
    "        else:\n",
    "            line = line.strip('\\n')\n",
    "            items = set(d).intersection(set(line))\n",
    "            d = ''.join(list(items))\n",
    "#             print(d)\n",
    "\n",
    "print(totalsum)"
   ]
  },
  {
   "cell_type": "code",
   "execution_count": null,
   "metadata": {},
   "outputs": [],
   "source": []
  }
 ],
 "metadata": {
  "kernelspec": {
   "display_name": "Python 3",
   "language": "python",
   "name": "python3"
  },
  "language_info": {
   "codemirror_mode": {
    "name": "ipython",
    "version": 3
   },
   "file_extension": ".py",
   "mimetype": "text/x-python",
   "name": "python",
   "nbconvert_exporter": "python",
   "pygments_lexer": "ipython3",
   "version": "3.6.10"
  }
 },
 "nbformat": 4,
 "nbformat_minor": 4
}
