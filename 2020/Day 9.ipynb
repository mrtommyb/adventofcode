{
 "cells": [
  {
   "cell_type": "code",
   "execution_count": 6,
   "metadata": {},
   "outputs": [],
   "source": [
    "import numpy as np\n",
    "from itertools import combinations"
   ]
  },
  {
   "cell_type": "code",
   "execution_count": 2,
   "metadata": {},
   "outputs": [],
   "source": [
    "fn = \"data/input09.txt\"\n",
    "\n",
    "values = np.genfromtxt(fn, dtype=int)"
   ]
  },
  {
   "cell_type": "code",
   "execution_count": 10,
   "metadata": {},
   "outputs": [
    {
     "name": "stdout",
     "output_type": "stream",
     "text": [
      "1492208709\n"
     ]
    }
   ],
   "source": [
    "def get_pairs(v, target):\n",
    "    for pairs in combinations(v, 2):\n",
    "        if np.sum(pairs) == target:\n",
    "            return pairs\n",
    "    return None\n",
    "\n",
    "i = 0\n",
    "bufsize = 25\n",
    "newtarget = 0\n",
    "for i in range(0, values.shape[0] - bufsize):\n",
    "    v = values[i:i+bufsize]\n",
    "    target = values[i+bufsize]\n",
    "    pairs = get_pairs(v, target)\n",
    "    if pairs is None:\n",
    "        print(target)\n",
    "        newtarget = target"
   ]
  },
  {
   "cell_type": "code",
   "execution_count": 23,
   "metadata": {},
   "outputs": [
    {
     "name": "stdout",
     "output_type": "stream",
     "text": [
      "soln: 238243506\n"
     ]
    }
   ],
   "source": [
    "i = 0\n",
    "j = i + 1\n",
    "while True:\n",
    "    \n",
    "    targetsum = np.sum(values[i:j])\n",
    "    if targetsum == newtarget:\n",
    "        answervals = np.sort(values[i:j])\n",
    "        print(f\"soln: {answervals[0] + answervals[-1]}\")\n",
    "        break\n",
    "    elif targetsum < newtarget:\n",
    "        j += 1\n",
    "    elif targetsum > newtarget:\n",
    "        i += 1\n",
    "        j = i + 1"
   ]
  },
  {
   "cell_type": "code",
   "execution_count": null,
   "metadata": {},
   "outputs": [],
   "source": []
  },
  {
   "cell_type": "code",
   "execution_count": null,
   "metadata": {},
   "outputs": [],
   "source": []
  },
  {
   "cell_type": "code",
   "execution_count": null,
   "metadata": {},
   "outputs": [],
   "source": []
  },
  {
   "cell_type": "code",
   "execution_count": null,
   "metadata": {},
   "outputs": [],
   "source": []
  },
  {
   "cell_type": "code",
   "execution_count": null,
   "metadata": {},
   "outputs": [],
   "source": []
  }
 ],
 "metadata": {
  "kernelspec": {
   "display_name": "Python 3",
   "language": "python",
   "name": "python3"
  },
  "language_info": {
   "codemirror_mode": {
    "name": "ipython",
    "version": 3
   },
   "file_extension": ".py",
   "mimetype": "text/x-python",
   "name": "python",
   "nbconvert_exporter": "python",
   "pygments_lexer": "ipython3",
   "version": "3.6.10"
  }
 },
 "nbformat": 4,
 "nbformat_minor": 4
}
