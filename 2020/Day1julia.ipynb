{
 "cells": [
  {
   "cell_type": "code",
   "execution_count": 11,
   "metadata": {},
   "outputs": [],
   "source": [
    "using DelimitedFiles\n"
   ]
  },
  {
   "cell_type": "code",
   "execution_count": 15,
   "metadata": {},
   "outputs": [],
   "source": [
    "values = readdlm(\"data/input01.txt\", Int);"
   ]
  },
  {
   "cell_type": "code",
   "execution_count": 16,
   "metadata": {},
   "outputs": [
    {
     "name": "stdout",
     "output_type": "stream",
     "text": [
      "soln: 996075\n"
     ]
    }
   ],
   "source": [
    "for i in 1:length(values)\n",
    "    for j in i:length(values)\n",
    "        if (values[i] + values[j]) == 2020\n",
    "            println(\"soln: $(values[i] * values[j])\")\n",
    "        end\n",
    "    end\n",
    "end"
   ]
  },
  {
   "cell_type": "code",
   "execution_count": 18,
   "metadata": {},
   "outputs": [
    {
     "name": "stdout",
     "output_type": "stream",
     "text": [
      "soln: 51810360\n"
     ]
    }
   ],
   "source": [
    "for i in 1:length(values)\n",
    "    for j in i:length(values)\n",
    "        for k in j:length(values)\n",
    "            if (values[i] + values[j] + values[k]) == 2020\n",
    "                println(\"soln: $(values[i] * values[j] * values[k])\")\n",
    "            end\n",
    "        end\n",
    "    end\n",
    "end"
   ]
  },
  {
   "cell_type": "code",
   "execution_count": null,
   "metadata": {},
   "outputs": [],
   "source": []
  }
 ],
 "metadata": {
  "kernelspec": {
   "display_name": "Julia 1.5.3",
   "language": "julia",
   "name": "julia-1.5"
  },
  "language_info": {
   "file_extension": ".jl",
   "mimetype": "application/julia",
   "name": "julia",
   "version": "1.5.3"
  }
 },
 "nbformat": 4,
 "nbformat_minor": 4
}
