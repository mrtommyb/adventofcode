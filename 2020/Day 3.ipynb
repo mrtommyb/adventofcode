{
 "cells": [
  {
   "cell_type": "code",
   "execution_count": 1,
   "metadata": {},
   "outputs": [],
   "source": [
    "import numpy as np"
   ]
  },
  {
   "cell_type": "code",
   "execution_count": 3,
   "metadata": {},
   "outputs": [
    {
     "name": "stdout",
     "output_type": "stream",
     "text": [
      "232\n"
     ]
    }
   ],
   "source": [
    "tree_cnt = 0\n",
    "values = np.genfromtxt('data/input03.txt', dtype='str', comments=None)\n",
    "loc = 0\n",
    "row = 0\n",
    "rowlen = len(values[0])\n",
    "step = 3\n",
    "down = 1\n",
    "while row < len(values)-1:\n",
    "    row += down\n",
    "    v = values[row]\n",
    "    rowvals = v[loc:] + v\n",
    "    loc += step\n",
    "    pos = rowvals[step]\n",
    "    if pos == '#':\n",
    "        tree_cnt += 1\n",
    "    if loc >= rowlen:\n",
    "        loc -= rowlen\n",
    "\n",
    "print(tree_cnt)"
   ]
  },
  {
   "cell_type": "code",
   "execution_count": 5,
   "metadata": {},
   "outputs": [
    {
     "name": "stdout",
     "output_type": "stream",
     "text": [
      "3952291680\n"
     ]
    }
   ],
   "source": [
    "def get_trees(step, down):\n",
    "    tree_cnt = 0\n",
    "    values = np.genfromtxt('data/input03.txt', dtype='str', comments=None)\n",
    "    loc = 0\n",
    "    row = 0\n",
    "    rowlen = len(values[0])\n",
    "    while row < len(values)-1:\n",
    "        row += down\n",
    "        v = values[row]\n",
    "        rowvals = v[loc:] + v\n",
    "        loc += step\n",
    "        pos = rowvals[step]\n",
    "        if pos == '#':\n",
    "            tree_cnt += 1\n",
    "        if loc >= rowlen:\n",
    "            loc -= rowlen\n",
    "\n",
    "    return tree_cnt\n",
    "    \n",
    "print(get_trees(1, 1) * get_trees(3, 1) * get_trees(5, 1) * get_trees(7, 1) * get_trees(1, 2))"
   ]
  },
  {
   "cell_type": "code",
   "execution_count": null,
   "metadata": {},
   "outputs": [],
   "source": []
  }
 ],
 "metadata": {
  "kernelspec": {
   "display_name": "Python 3",
   "language": "python",
   "name": "python3"
  },
  "language_info": {
   "codemirror_mode": {
    "name": "ipython",
    "version": 3
   },
   "file_extension": ".py",
   "mimetype": "text/x-python",
   "name": "python",
   "nbconvert_exporter": "python",
   "pygments_lexer": "ipython3",
   "version": "3.6.10"
  }
 },
 "nbformat": 4,
 "nbformat_minor": 4
}
