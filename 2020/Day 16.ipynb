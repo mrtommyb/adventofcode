{
 "cells": [
  {
   "cell_type": "code",
   "execution_count": 1,
   "metadata": {},
   "outputs": [],
   "source": [
    "import numpy as np\n"
   ]
  },
  {
   "cell_type": "code",
   "execution_count": 2,
   "metadata": {},
   "outputs": [],
   "source": [
    "fn = 'data/input16.txt'"
   ]
  },
  {
   "cell_type": "code",
   "execution_count": 3,
   "metadata": {},
   "outputs": [
    {
     "name": "stdout",
     "output_type": "stream",
     "text": [
      "soln: 23954\n"
     ]
    }
   ],
   "source": [
    "# data from top of file\n",
    "    \n",
    "fields = {}\n",
    "maxval = 0\n",
    "with open(fn, \"r\") as file:\n",
    "    for line in file:\n",
    "        if line == '\\n':\n",
    "            break\n",
    "        linesplit = line.split(\":\")\n",
    "        fieldname = linesplit[0]\n",
    "        rangesplit = linesplit[1].strip().replace(\"\\n\", \"\").split('or')\n",
    "        value0, value1 = rangesplit[0].split(\"-\")\n",
    "        value2, value3 = rangesplit[1].split(\"-\")\n",
    "        fields[fieldname] = [int(value0), int(value1), int(value2), int(value3)]\n",
    "        if int(value3) > maxval:\n",
    "            maxval = int(value3)\n",
    "\n",
    "goodval = [False for x in range(maxval)]\n",
    "\n",
    "for k,v in fields.items():\n",
    "    goodval[v[0]:v[1]] = [True for x in range(v[0],v[1]+1)]\n",
    "    goodval[v[2]:v[3]] = [True for x in range(v[2],v[3]+1)]\n",
    "allowed_numbers = [int(x) for x in range(maxval) if goodval[x]]\n",
    "\n",
    "ticket_scanning_error_rate = 0\n",
    "datastart = False\n",
    "\n",
    "goodrows = [] # save the goood rows for part 2\n",
    "with open(fn, \"r\") as file:\n",
    "    for i,line in enumerate(file):\n",
    "        if datastart:\n",
    "            goodrows.append(True)\n",
    "            tickets = line.split(\",\")\n",
    "            for ticket in tickets:\n",
    "                if int(ticket) not in allowed_numbers:\n",
    "                    ticket_scanning_error_rate += int(ticket)\n",
    "                    goodrows[i - offset - 1] = False\n",
    "                    break\n",
    "            \n",
    "        if line == 'nearby tickets:\\n':\n",
    "            datastart = True\n",
    "            offset = i\n",
    "print(f\"soln: {ticket_scanning_error_rate}\")"
   ]
  },
  {
   "cell_type": "code",
   "execution_count": 4,
   "metadata": {},
   "outputs": [],
   "source": [
    "# part 2\n",
    "\n",
    "# get the goodrows in a useful format\n",
    "myticket = np.array([131,67,137,61,149,107,109,79,71,127,173,157,167,139,151,163,59,53,113,73])\n",
    "\n",
    "tickets = np.genfromtxt(fn, delimiter=',', skip_header=offset+1)\n",
    "\n",
    "tickets = np.vstack((myticket, tickets[goodrows]))\n",
    "\n",
    "field_names = list(fields.keys())"
   ]
  },
  {
   "cell_type": "code",
   "execution_count": 5,
   "metadata": {},
   "outputs": [
    {
     "data": {
      "text/plain": [
       "(191, 20)"
      ]
     },
     "execution_count": 5,
     "metadata": {},
     "output_type": "execute_result"
    }
   ],
   "source": [
    "tickets.shape"
   ]
  },
  {
   "cell_type": "code",
   "execution_count": 6,
   "metadata": {},
   "outputs": [],
   "source": [
    "# go through every field and work out if they can \n",
    "\n",
    "possible_solutions = [[] for x in tickets.T]\n",
    "for i, col in enumerate(tickets.T):\n",
    "    for k, v in fields.items():\n",
    "        if np.all([True if ((x in range(v[0], v[1]+1)) or\n",
    "                                  (x in range(v[2], v[3]+1))) else False for x in col]):\n",
    "            possible_solutions[i].append(k)\n"
   ]
  },
  {
   "cell_type": "code",
   "execution_count": 7,
   "metadata": {},
   "outputs": [
    {
     "name": "stdout",
     "output_type": "stream",
     "text": [
      "soln: 453459307723\n"
     ]
    }
   ],
   "source": [
    "not_solved = set(field_names)\n",
    "solution = ['' for x in tickets.T]\n",
    "while len(not_solved) > 0:\n",
    "    for i,x in enumerate(possible_solutions):\n",
    "        if len(set(x).intersection(not_solved)) == 1:\n",
    "\n",
    "            solution[i] = list(set(x).intersection(not_solved))[0]\n",
    "            not_solved.remove(solution[i])\n",
    "idx = [i for i,x in enumerate(solution) if x.startswith('departure')]\n",
    "print(f\"soln: {np.prod(myticket[idx])}\")"
   ]
  },
  {
   "cell_type": "code",
   "execution_count": null,
   "metadata": {},
   "outputs": [],
   "source": []
  },
  {
   "cell_type": "code",
   "execution_count": null,
   "metadata": {},
   "outputs": [],
   "source": []
  },
  {
   "cell_type": "code",
   "execution_count": null,
   "metadata": {},
   "outputs": [],
   "source": []
  },
  {
   "cell_type": "code",
   "execution_count": null,
   "metadata": {},
   "outputs": [],
   "source": []
  },
  {
   "cell_type": "code",
   "execution_count": null,
   "metadata": {},
   "outputs": [],
   "source": []
  },
  {
   "cell_type": "code",
   "execution_count": null,
   "metadata": {},
   "outputs": [],
   "source": []
  },
  {
   "cell_type": "code",
   "execution_count": null,
   "metadata": {},
   "outputs": [],
   "source": [
    "         "
   ]
  },
  {
   "cell_type": "code",
   "execution_count": null,
   "metadata": {},
   "outputs": [],
   "source": []
  },
  {
   "cell_type": "code",
   "execution_count": null,
   "metadata": {},
   "outputs": [],
   "source": []
  },
  {
   "cell_type": "code",
   "execution_count": null,
   "metadata": {},
   "outputs": [],
   "source": []
  },
  {
   "cell_type": "code",
   "execution_count": null,
   "metadata": {},
   "outputs": [],
   "source": []
  },
  {
   "cell_type": "code",
   "execution_count": null,
   "metadata": {},
   "outputs": [],
   "source": []
  },
  {
   "cell_type": "code",
   "execution_count": null,
   "metadata": {},
   "outputs": [],
   "source": []
  },
  {
   "cell_type": "code",
   "execution_count": null,
   "metadata": {},
   "outputs": [],
   "source": []
  },
  {
   "cell_type": "code",
   "execution_count": null,
   "metadata": {},
   "outputs": [],
   "source": []
  },
  {
   "cell_type": "code",
   "execution_count": null,
   "metadata": {},
   "outputs": [],
   "source": []
  },
  {
   "cell_type": "code",
   "execution_count": null,
   "metadata": {},
   "outputs": [],
   "source": []
  }
 ],
 "metadata": {
  "kernelspec": {
   "display_name": "Python 3",
   "language": "python",
   "name": "python3"
  },
  "language_info": {
   "codemirror_mode": {
    "name": "ipython",
    "version": 3
   },
   "file_extension": ".py",
   "mimetype": "text/x-python",
   "name": "python",
   "nbconvert_exporter": "python",
   "pygments_lexer": "ipython3",
   "version": "3.6.10"
  }
 },
 "nbformat": 4,
 "nbformat_minor": 4
}
