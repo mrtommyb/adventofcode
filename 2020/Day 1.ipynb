{
 "cells": [
  {
   "cell_type": "code",
   "execution_count": 2,
   "metadata": {},
   "outputs": [],
   "source": [
    "import numpy as np"
   ]
  },
  {
   "cell_type": "code",
   "execution_count": 3,
   "metadata": {},
   "outputs": [],
   "source": [
    "values = np.genfromtxt('data/input01.txt', dtype=int)"
   ]
  },
  {
   "cell_type": "code",
   "execution_count": 4,
   "metadata": {},
   "outputs": [
    {
     "name": "stdout",
     "output_type": "stream",
     "text": [
      "1165 855 996075\n",
      "soln: 996075\n"
     ]
    }
   ],
   "source": [
    "# part 1\n",
    "for i, v1 in enumerate(values):\n",
    "    for j, v2 in enumerate(values[i+1:]):\n",
    "        if v2 + v1 == 2020:\n",
    "                print(v1, v2, v1 * v2)\n",
    "                print(f\"soln: {v1 * v2}\")\n"
   ]
  },
  {
   "cell_type": "code",
   "execution_count": 6,
   "metadata": {},
   "outputs": [
    {
     "name": "stdout",
     "output_type": "stream",
     "text": [
      "soln: 51810360\n"
     ]
    }
   ],
   "source": [
    "# part 2\n",
    "from itertools import combinations\n",
    "\n",
    "\n",
    "for v in combinations(values, 3):\n",
    "    if v[0] + v[1] + v[2] == 2020:\n",
    "        print(f\"soln: {v[0] * v[1] * v[2] }\")"
   ]
  },
  {
   "cell_type": "code",
   "execution_count": null,
   "metadata": {},
   "outputs": [],
   "source": []
  },
  {
   "cell_type": "code",
   "execution_count": null,
   "metadata": {},
   "outputs": [],
   "source": []
  }
 ],
 "metadata": {
  "kernelspec": {
   "display_name": "Python 3",
   "language": "python",
   "name": "python3"
  },
  "language_info": {
   "codemirror_mode": {
    "name": "ipython",
    "version": 3
   },
   "file_extension": ".py",
   "mimetype": "text/x-python",
   "name": "python",
   "nbconvert_exporter": "python",
   "pygments_lexer": "ipython3",
   "version": "3.8.5"
  }
 },
 "nbformat": 4,
 "nbformat_minor": 4
}
