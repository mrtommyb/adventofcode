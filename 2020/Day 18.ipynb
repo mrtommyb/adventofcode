{
 "cells": [
  {
   "cell_type": "code",
   "execution_count": null,
   "metadata": {},
   "outputs": [],
   "source": []
  },
  {
   "cell_type": "code",
   "execution_count": 1,
   "metadata": {},
   "outputs": [],
   "source": [
    "fn = \"data/input18.txt\""
   ]
  },
  {
   "cell_type": "code",
   "execution_count": 127,
   "metadata": {},
   "outputs": [
    {
     "name": "stdout",
     "output_type": "stream",
     "text": [
      "soln: 12918250417632\n"
     ]
    }
   ],
   "source": [
    "def calculate_line(ln, initial_value=0):\n",
    "    if '(' in ln:\n",
    "        idx_right_paren = [i for i,x in\n",
    "                           enumerate(ln) if x == ')'][0]\n",
    "        idx_left_paren = [i for i,x in\n",
    "                       enumerate(ln) if (x == '(') and\n",
    "                       (i < idx_right_paren)][-1]\n",
    "        section = [ln[i] for i in range(idx_left_paren+1, idx_right_paren)]\n",
    "        initial_value = int(section[0])\n",
    "        section_sum = calculate_section(section[1:], initial_value)\n",
    "        new_ln = []\n",
    "        new_ln.extend(ln[0:idx_left_paren])\n",
    "        new_ln.append(str(section_sum))\n",
    "        new_ln.extend(ln[idx_right_paren+1:])\n",
    "        \n",
    "        return calculate_line(new_ln, initial_value=section_sum)\n",
    "    return ln\n",
    "\n",
    "def calculate_section(section, initial_value=0):\n",
    "    if len(section) == 0:\n",
    "        return initial_value\n",
    "    next_operator = section[0]\n",
    "    next_value = section[1]\n",
    "    if next_operator == \"+\":\n",
    "        initial_value += int(next_value)\n",
    "    elif next_operator == '*':\n",
    "        initial_value *= int(next_value)\n",
    "    section = section[2:]\n",
    "    new_value = calculate_section(section, initial_value)\n",
    "    return new_value\n",
    "    \n",
    "    \n",
    "with open(fn, \"r\") as file:\n",
    "    sum_of_sums = 0\n",
    "    for i,line in enumerate(file):\n",
    "        line = \"(\" + line + \")\"\n",
    "        ln = list(line.replace(\" \",\"\").replace(\"\\n\", \"\"))\n",
    "        sum_of_sums += int(calculate_line(ln)[0])\n",
    "    print(f\"soln: {sum_of_sums}\")"
   ]
  },
  {
   "cell_type": "code",
   "execution_count": 186,
   "metadata": {},
   "outputs": [
    {
     "name": "stdout",
     "output_type": "stream",
     "text": [
      "soln: 171259538712010\n"
     ]
    }
   ],
   "source": [
    "# part 2 just need to add a bunch of parentheses\n",
    "\n",
    "def add_parentheses(ln):\n",
    "    n_plus = len([i for i,x in enumerate(ln) if x == '+'])\n",
    "    for i in range(n_plus):\n",
    "        idx = [i for i,x in enumerate(ln) if x == '+'][i]\n",
    "        # go right\n",
    "        right_idx = idx \n",
    "        para = 0\n",
    "        new_ln = []\n",
    "        while True:\n",
    "            right_idx += 1\n",
    "            if (ln[right_idx] in [str(x) for x in range(10)]) and (para == 0):\n",
    "                new_ln.extend(ln[:right_idx+1])\n",
    "                new_ln.append(\")\")\n",
    "                new_ln.extend(ln[right_idx+1:])\n",
    "                ln = new_ln\n",
    "                break\n",
    "            elif (ln[right_idx] == \")\") and (para == 0):\n",
    "                new_ln.extend(ln[:right_idx+1])\n",
    "                new_ln.append(\")\")\n",
    "                new_ln.extend(ln[right_idx+1:])\n",
    "                ln = new_ln\n",
    "                break\n",
    "            elif (ln[right_idx] == \"(\"):\n",
    "                para += 1\n",
    "            elif (ln[right_idx] == \")\") and (para != 0):\n",
    "                para -= 1\n",
    "\n",
    "            if (ln[right_idx] == \")\") and (para == 0):\n",
    "                    new_ln.extend(ln[:right_idx+1])\n",
    "                    new_ln.append(\")\")\n",
    "                    new_ln.extend(ln[right_idx+1:])\n",
    "                    ln = new_ln\n",
    "                    break    \n",
    "\n",
    "        # go left\n",
    "        left_idx = idx \n",
    "        para = 0\n",
    "        new_ln = []\n",
    "        while True:\n",
    "            left_idx -= 1\n",
    "            if (ln[left_idx] in [str(x) for x in range(10)]) and (para == 0):\n",
    "                new_ln.extend(ln[:left_idx])\n",
    "                new_ln.append(\"(\")\n",
    "                new_ln.extend(ln[left_idx:])\n",
    "                ln = new_ln\n",
    "                break\n",
    "            elif (ln[left_idx] == \"(\") and (para == 0):\n",
    "                new_ln.extend(ln[:left_idx])\n",
    "                new_ln.append(\"(\")\n",
    "                new_ln.extend(ln[left_idx:])\n",
    "                ln = new_ln\n",
    "                break\n",
    "            elif (ln[left_idx] == \")\"):\n",
    "                para += 1\n",
    "            elif (ln[left_idx] == \"(\") and (para != 0):\n",
    "                para -= 1\n",
    "\n",
    "            if (ln[left_idx] == \"(\") and (para == 0):\n",
    "                new_ln.extend(ln[:left_idx])\n",
    "                new_ln.append(\"(\")\n",
    "                new_ln.extend(ln[left_idx:])\n",
    "                ln = new_ln\n",
    "                break\n",
    "    return ln\n",
    "    \n",
    "    \n",
    "    \n",
    "\n",
    "with open(fn, \"r\") as file:\n",
    "    sum_of_sums = 0\n",
    "    for i,line in enumerate(file):\n",
    "        line = \"(\" + line + \")\"\n",
    "        ln = list(line.replace(\" \",\"\").replace(\"\\n\", \"\"))\n",
    "        ln = add_parentheses(ln)\n",
    "        sum_of_sums += int(calculate_line(ln)[0])\n",
    "    print(f\"soln: {sum_of_sums}\")"
   ]
  },
  {
   "cell_type": "code",
   "execution_count": null,
   "metadata": {},
   "outputs": [],
   "source": []
  },
  {
   "cell_type": "code",
   "execution_count": null,
   "metadata": {},
   "outputs": [],
   "source": []
  },
  {
   "cell_type": "code",
   "execution_count": null,
   "metadata": {},
   "outputs": [],
   "source": []
  },
  {
   "cell_type": "code",
   "execution_count": null,
   "metadata": {},
   "outputs": [],
   "source": []
  },
  {
   "cell_type": "code",
   "execution_count": null,
   "metadata": {},
   "outputs": [],
   "source": []
  },
  {
   "cell_type": "code",
   "execution_count": null,
   "metadata": {},
   "outputs": [],
   "source": []
  },
  {
   "cell_type": "code",
   "execution_count": null,
   "metadata": {},
   "outputs": [],
   "source": []
  }
 ],
 "metadata": {
  "kernelspec": {
   "display_name": "Python 3",
   "language": "python",
   "name": "python3"
  },
  "language_info": {
   "codemirror_mode": {
    "name": "ipython",
    "version": 3
   },
   "file_extension": ".py",
   "mimetype": "text/x-python",
   "name": "python",
   "nbconvert_exporter": "python",
   "pygments_lexer": "ipython3",
   "version": "3.6.10"
  }
 },
 "nbformat": 4,
 "nbformat_minor": 4
}
