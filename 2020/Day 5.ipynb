{
 "cells": [
  {
   "cell_type": "code",
   "execution_count": 2,
   "metadata": {},
   "outputs": [],
   "source": [
    "import numpy as np"
   ]
  },
  {
   "cell_type": "code",
   "execution_count": 3,
   "metadata": {},
   "outputs": [],
   "source": [
    "values = np.genfromtxt('data/input05.txt', dtype='str', comments=None)\n",
    "\n",
    "def parse_key(key):\n",
    "    key = key.replace('F', '0').replace('B', '1').replace('L', '0').replace('R', '1')\n",
    "    rowkey = key[:7]\n",
    "    colkey = key[7:]\n",
    "    seatrow = 0\n",
    "    seatcol = 0\n",
    "    totrows = 128\n",
    "    totcols = 8\n",
    "    for i in range(7):\n",
    "        totrows /= 2\n",
    "        seatrow += int(rowkey[i]) * totrows\n",
    "    for i in range(3):\n",
    "        totcols /= 2\n",
    "        seatcol += int(colkey[i]) * totcols\n",
    "    return (seatrow, seatcol)"
   ]
  },
  {
   "cell_type": "code",
   "execution_count": 4,
   "metadata": {},
   "outputs": [
    {
     "name": "stdout",
     "output_type": "stream",
     "text": [
      "soln: 888\n"
     ]
    }
   ],
   "source": [
    "maxval = 0\n",
    "for v in values:\n",
    "    newkey = parse_key(v)\n",
    "    if (newkey[0]*8 + newkey[1]) > maxval:\n",
    "        maxval = (newkey[0]*8 + newkey[1])\n",
    "\n",
    "print(f'soln: {int(maxval)}')"
   ]
  },
  {
   "cell_type": "code",
   "execution_count": 6,
   "metadata": {},
   "outputs": [
    {
     "name": "stdout",
     "output_type": "stream",
     "text": [
      "522\n"
     ]
    }
   ],
   "source": [
    "allkeys = np.array([])\n",
    "for v in values:\n",
    "    newkey = parse_key(v)\n",
    "    allkeys = np.r_[allkeys, int(newkey[0]*8 + newkey[1])]\n",
    "\n",
    "# for i in range(int(np.unique(allrows).min()), int(np.unique(allrows).max())):\n",
    "#     if i not in np.unique(allrows):\n",
    "#         print(i)\n",
    "allkeys[np.argwhere(np.diff(np.sort(allkeys))!=1)[0]] + 1\n",
    "\n",
    "print(f\"{int(np.sort(allkeys)[np.argwhere(np.diff(np.sort(allkeys))!=1)[0]] + 1)}\")"
   ]
  },
  {
   "cell_type": "code",
   "execution_count": null,
   "metadata": {},
   "outputs": [],
   "source": []
  }
 ],
 "metadata": {
  "kernelspec": {
   "display_name": "Python 3",
   "language": "python",
   "name": "python3"
  },
  "language_info": {
   "codemirror_mode": {
    "name": "ipython",
    "version": 3
   },
   "file_extension": ".py",
   "mimetype": "text/x-python",
   "name": "python",
   "nbconvert_exporter": "python",
   "pygments_lexer": "ipython3",
   "version": "3.6.10"
  }
 },
 "nbformat": 4,
 "nbformat_minor": 4
}
