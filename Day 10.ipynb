{
 "cells": [
  {
   "cell_type": "code",
   "execution_count": 132,
   "metadata": {},
   "outputs": [],
   "source": [
    "import numpy as np\n",
    "from itertools import combinations\n",
    "from tqdm import tqdm_notebook"
   ]
  },
  {
   "cell_type": "code",
   "execution_count": 133,
   "metadata": {},
   "outputs": [],
   "source": [
    "values = np.genfromtxt('data/input10.txt', dtype=int)\n",
    "values = np.r_[0, values, np.max(values)+3]"
   ]
  },
  {
   "cell_type": "code",
   "execution_count": 134,
   "metadata": {},
   "outputs": [
    {
     "name": "stdout",
     "output_type": "stream",
     "text": [
      "soln: 1914\n"
     ]
    }
   ],
   "source": [
    "diffs = np.diff(np.sort(values))\n",
    "print(f'soln: {diffs[diffs == 1.].shape[0] * diffs[diffs == 3.].shape[0]}')"
   ]
  },
  {
   "cell_type": "code",
   "execution_count": 251,
   "metadata": {},
   "outputs": [
    {
     "name": "stdout",
     "output_type": "stream",
     "text": [
      "soln: 9256148959232\n",
      "CPU times: user 6.11 ms, sys: 0 ns, total: 6.11 ms\n",
      "Wall time: 5.31 ms\n"
     ]
    }
   ],
   "source": [
    "%%time\n",
    "# part 2\n",
    "def isgood2(arr):\n",
    "    if np.max(np.diff(arr)) > 3:\n",
    "        return False\n",
    "    else:\n",
    "        return True\n",
    "    \n",
    "svals = np.sort(np.genfromtxt('data/input10.txt', dtype=int))\n",
    "svals = np.r_[0, svals, np.max(svals)+3] # and the start and end number\n",
    "\n",
    "\n",
    "all_idx = range(svals.shape[0])\n",
    "required_idx = np.array([], dtype=int)\n",
    "required_idx = np.r_[required_idx,0]\n",
    "required_idx = np.r_[required_idx, all_idx[-1]]\n",
    "\n",
    "\n",
    "# the positions where the diff is 3 are fixed,\n",
    "# so calculate good permutations betwen those points\n",
    "fixed_nodes = np.argwhere(np.diff(svals) == 3)\n",
    "required_idx = np.unique(np.r_[required_idx, fixed_nodes.flatten()])\n",
    "\n",
    "# break it into chunks to brute force over\n",
    "chunks = [range(required_idx[i]+1, required_idx[i+1]) for i in range(len(required_idx[:-1]))\n",
    "          if required_idx[i+1]-required_idx[i] > 1]\n",
    "\n",
    "tot_cnt = 1 # starts at one because we know the complete set works\n",
    "\n",
    "for rng in chunks:\n",
    "    chunk_cnt = 0\n",
    "    for pval in range(1, len(rng)+1):\n",
    "        for k in combinations(rng, pval):\n",
    "            if isgood2(svals[[x for x in all_idx if x not in k]]):\n",
    "                chunk_cnt +=  1 \n",
    "    tot_cnt *= (chunk_cnt + 1)\n",
    "\n",
    "\n",
    "\n",
    "print(f'soln: {tot_cnt}')"
   ]
  },
  {
   "cell_type": "code",
   "execution_count": null,
   "metadata": {},
   "outputs": [],
   "source": [
    "\n"
   ]
  },
  {
   "cell_type": "code",
   "execution_count": null,
   "metadata": {},
   "outputs": [],
   "source": []
  },
  {
   "cell_type": "code",
   "execution_count": null,
   "metadata": {},
   "outputs": [],
   "source": []
  },
  {
   "cell_type": "code",
   "execution_count": null,
   "metadata": {},
   "outputs": [],
   "source": []
  },
  {
   "cell_type": "code",
   "execution_count": null,
   "metadata": {},
   "outputs": [],
   "source": []
  },
  {
   "cell_type": "code",
   "execution_count": null,
   "metadata": {},
   "outputs": [],
   "source": []
  },
  {
   "cell_type": "code",
   "execution_count": null,
   "metadata": {},
   "outputs": [],
   "source": []
  },
  {
   "cell_type": "code",
   "execution_count": null,
   "metadata": {},
   "outputs": [],
   "source": []
  },
  {
   "cell_type": "code",
   "execution_count": null,
   "metadata": {},
   "outputs": [],
   "source": []
  },
  {
   "cell_type": "code",
   "execution_count": null,
   "metadata": {},
   "outputs": [],
   "source": []
  }
 ],
 "metadata": {
  "kernelspec": {
   "display_name": "Python 3",
   "language": "python",
   "name": "python3"
  },
  "language_info": {
   "codemirror_mode": {
    "name": "ipython",
    "version": 3
   },
   "file_extension": ".py",
   "mimetype": "text/x-python",
   "name": "python",
   "nbconvert_exporter": "python",
   "pygments_lexer": "ipython3",
   "version": "3.8.5"
  }
 },
 "nbformat": 4,
 "nbformat_minor": 4
}
