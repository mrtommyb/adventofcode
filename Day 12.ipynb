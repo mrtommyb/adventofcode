{
 "cells": [
  {
   "cell_type": "code",
   "execution_count": 5,
   "metadata": {},
   "outputs": [],
   "source": [
    "fn = 'data/input12.txt'\n"
   ]
  },
  {
   "cell_type": "code",
   "execution_count": 6,
   "metadata": {},
   "outputs": [
    {
     "name": "stdout",
     "output_type": "stream",
     "text": [
      "[-752, -127]\n",
      "soln: 879\n"
     ]
    }
   ],
   "source": [
    "def normal_move(cmd, mag, pos):\n",
    "    if cmd == 'N':\n",
    "        pos[0] += mag \n",
    "    elif cmd == 'S':\n",
    "        pos[0] -= mag\n",
    "    elif cmd == 'E':\n",
    "        pos[1] += mag\n",
    "    elif cmd == 'W':\n",
    "        pos[1] -= mag\n",
    "    return pos\n",
    "\n",
    "def forward_move(mag, pos, facing):\n",
    "    if facing == 0:\n",
    "        pos[0] += mag\n",
    "    elif facing == 2:\n",
    "        pos[0] -= mag\n",
    "    elif facing == 1:\n",
    "        pos[1] += mag\n",
    "    elif facing == 3:\n",
    "        pos[1] -= mag\n",
    "    return pos\n",
    "\n",
    "position = [0,0]\n",
    "#  0 facing directions\n",
    "# 3 1\n",
    "#  2\n",
    "facing = 1\n",
    "with open(fn, \"r\") as file:\n",
    "    \n",
    "    for line in file:\n",
    "        cmd = line[0]\n",
    "        mag = int(line[1:])\n",
    "        \n",
    "        if cmd in [\"N\", \"S\", \"E\", \"W\"]:\n",
    "            position = normal_move(cmd, mag, position)\n",
    "        elif cmd == \"R\":\n",
    "            facing = int((facing + (mag/90)) % 4)\n",
    "        elif cmd == \"L\":\n",
    "            facing = int((facing - (mag/90)) % 4)\n",
    "        elif cmd == 'F':\n",
    "            position = forward_move(mag, position, facing)\n",
    "    print(position)\n",
    "    print(f\"soln: {abs(position[0]) + abs(position[1])}\")"
   ]
  },
  {
   "cell_type": "code",
   "execution_count": 7,
   "metadata": {},
   "outputs": [
    {
     "name": "stdout",
     "output_type": "stream",
     "text": [
      "soln: 18107\n"
     ]
    }
   ],
   "source": [
    "def rotate_waypoint(cmd, mag, waypoint):\n",
    "    if mag == 180:\n",
    "        waypoint = [-waypoint[0], -waypoint[1]]\n",
    "    elif ((mag == 90) and (cmd == \"L\")) or ((mag == 270) and (cmd == \"R\")):\n",
    "        waypoint = [waypoint[1], -waypoint[0]]\n",
    "    elif ((mag == 90) and (cmd == \"R\")) or ((mag == 270) and (cmd == \"L\")):\n",
    "        waypoint = [-waypoint[1], waypoint[0]]\n",
    "    return waypoint\n",
    "\n",
    "waypoint = [1,10]\n",
    "position = [0,0]\n",
    "with open(fn, \"r\") as file:\n",
    "    for line in file:\n",
    "        cmd = line[0]\n",
    "        mag = int(line[1:])\n",
    "        if cmd in [\"N\", \"S\", \"E\", \"W\"]:\n",
    "            waypoint = normal_move(cmd, mag, waypoint)\n",
    "        elif cmd in [\"R\", \"L\"]:\n",
    "            waypoint = rotate_waypoint(cmd, mag, waypoint)\n",
    "        elif cmd == \"F\":\n",
    "            position[0] += waypoint[0]*mag\n",
    "            position[1] += waypoint[1]*mag\n",
    "#         print(position, waypoint)\n",
    "    print(f\"soln: {abs(position[0]) + abs(position[1])}\")"
   ]
  },
  {
   "cell_type": "code",
   "execution_count": null,
   "metadata": {},
   "outputs": [],
   "source": []
  },
  {
   "cell_type": "code",
   "execution_count": null,
   "metadata": {},
   "outputs": [],
   "source": []
  }
 ],
 "metadata": {
  "kernelspec": {
   "display_name": "Python 3",
   "language": "python",
   "name": "python3"
  },
  "language_info": {
   "codemirror_mode": {
    "name": "ipython",
    "version": 3
   },
   "file_extension": ".py",
   "mimetype": "text/x-python",
   "name": "python",
   "nbconvert_exporter": "python",
   "pygments_lexer": "ipython3",
   "version": "3.8.5"
  }
 },
 "nbformat": 4,
 "nbformat_minor": 4
}
