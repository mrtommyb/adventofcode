{
 "cells": [
  {
   "cell_type": "code",
   "execution_count": 38,
   "metadata": {},
   "outputs": [],
   "source": [
    "import numpy as np\n",
    "from collections import defaultdict"
   ]
  },
  {
   "cell_type": "code",
   "execution_count": 42,
   "metadata": {},
   "outputs": [],
   "source": [
    "fn = 'data/input14.txt'"
   ]
  },
  {
   "cell_type": "code",
   "execution_count": 63,
   "metadata": {},
   "outputs": [
    {
     "name": "stdout",
     "output_type": "stream",
     "text": [
      "soln: 13865835758282\n"
     ]
    }
   ],
   "source": [
    "d = defaultdict(int)\n",
    "with open(fn, \"r\") as file:\n",
    "    for line in file:\n",
    "        lnsplit = line.split(\" = \")\n",
    "        if lnsplit[0] == \"mask\":\n",
    "            mask = lnsplit[1].replace('\\n','')\n",
    "        elif line[0:3] == \"mem\":\n",
    "            address = line.split(\"mem[\")[1].split(\"]\")[0]\n",
    "            val = int(lnsplit[1].replace('\\n',''))\n",
    "            binval = list(format(val, '036b'))\n",
    "            for i,b in enumerate(list(mask)):\n",
    "                if b != 'X':\n",
    "                    binval[i] = b\n",
    "            d[address] = int(''.join(binval), 2)\n",
    "\n",
    "print(f\"soln: {sum(d.values())}\")\n",
    "                "
   ]
  },
  {
   "cell_type": "code",
   "execution_count": 111,
   "metadata": {},
   "outputs": [
    {
     "name": "stdout",
     "output_type": "stream",
     "text": [
      "soln: 4195339838136\n"
     ]
    }
   ],
   "source": [
    "\n",
    "def get_address_combination(a, m):\n",
    "    ad = ''\n",
    "    adlist = [\"\"]\n",
    "    for i,b in enumerate(list(m)):\n",
    "        if b == '0':\n",
    "            ad += a[i]\n",
    "        elif b == '1':\n",
    "            ad += \"1\"\n",
    "        elif  b == \"X\":\n",
    "            ad += \"X\"\n",
    "    for i,b in enumerate(list(ad)):\n",
    "        adlist2 = []\n",
    "        for al in adlist:\n",
    "            if b in ['0', '1']:\n",
    "                adlist2.append(al + b)\n",
    "            if b == 'X':\n",
    "\n",
    "                adlist2.append(al + \"0\")\n",
    "                adlist2.append(al + \"1\")\n",
    "        adlist = adlist2\n",
    "    return adlist\n",
    "    \n",
    "    \n",
    "d = defaultdict(int)\n",
    "with open(fn, \"r\") as file:\n",
    "    for line in file:\n",
    "        lnsplit = line.split(\" = \")\n",
    "        if lnsplit[0] == \"mask\":\n",
    "            mask = lnsplit[1].replace('\\n','')\n",
    "        elif line[0:3] == \"mem\":\n",
    "            address = line.split(\"mem[\")[1].split(\"]\")[0]\n",
    "            val = int(lnsplit[1].replace('\\n',''))\n",
    "            binad = list(format(int(address), '036b'))\n",
    "            for ad in get_address_combination(binad, mask):\n",
    "                d[ad] = val\n",
    "\n",
    "            \n",
    "\n",
    "print(f\"soln: {sum(d.values())}\")\n",
    "                "
   ]
  },
  {
   "cell_type": "code",
   "execution_count": null,
   "metadata": {},
   "outputs": [],
   "source": []
  },
  {
   "cell_type": "code",
   "execution_count": null,
   "metadata": {},
   "outputs": [],
   "source": []
  },
  {
   "cell_type": "code",
   "execution_count": null,
   "metadata": {},
   "outputs": [],
   "source": []
  },
  {
   "cell_type": "code",
   "execution_count": 36,
   "metadata": {},
   "outputs": [],
   "source": []
  },
  {
   "cell_type": "code",
   "execution_count": null,
   "metadata": {},
   "outputs": [],
   "source": []
  },
  {
   "cell_type": "code",
   "execution_count": null,
   "metadata": {},
   "outputs": [],
   "source": []
  },
  {
   "cell_type": "code",
   "execution_count": null,
   "metadata": {},
   "outputs": [],
   "source": []
  }
 ],
 "metadata": {
  "kernelspec": {
   "display_name": "Python 3",
   "language": "python",
   "name": "python3"
  },
  "language_info": {
   "codemirror_mode": {
    "name": "ipython",
    "version": 3
   },
   "file_extension": ".py",
   "mimetype": "text/x-python",
   "name": "python",
   "nbconvert_exporter": "python",
   "pygments_lexer": "ipython3",
   "version": "3.8.5"
  }
 },
 "nbformat": 4,
 "nbformat_minor": 4
}
