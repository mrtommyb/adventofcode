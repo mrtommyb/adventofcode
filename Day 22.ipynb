{
 "cells": [
  {
   "cell_type": "code",
   "execution_count": null,
   "metadata": {},
   "outputs": [],
   "source": []
  },
  {
   "cell_type": "code",
   "execution_count": 1,
   "metadata": {},
   "outputs": [],
   "source": [
    "fn = \"data/input22.txt\""
   ]
  },
  {
   "cell_type": "code",
   "execution_count": 38,
   "metadata": {},
   "outputs": [],
   "source": [
    "with open(fn, \"r\") as file:\n",
    "    p1 = False\n",
    "    p2 = False\n",
    "    player1 = []\n",
    "    player2 = []\n",
    "    for line in file:\n",
    "        line = line.replace(\"\\n\", \"\")\n",
    "        if line == \"\":\n",
    "            continue\n",
    "        elif line == \"Player 1:\":\n",
    "            p1 = True\n",
    "        elif line == \"Player 2:\":\n",
    "            p2 = True\n",
    "            p1 = False\n",
    "        elif p1:\n",
    "            player1.append(int(line))\n",
    "        elif p2:\n",
    "            player2.append(int(line))"
   ]
  },
  {
   "cell_type": "code",
   "execution_count": 39,
   "metadata": {},
   "outputs": [],
   "source": [
    "# #test case\n",
    "# player1 = [9,2,6,3,1]\n",
    "# player2 = [5,8,4,7,10]"
   ]
  },
  {
   "cell_type": "code",
   "execution_count": 40,
   "metadata": {},
   "outputs": [
    {
     "name": "stdout",
     "output_type": "stream",
     "text": [
      "player2\n"
     ]
    }
   ],
   "source": [
    "while (len(player1) != 0) and (len(player2) != 0):\n",
    "    v1 = player1.pop(0)\n",
    "    v2 = player2.pop(0)\n",
    "    if v1 > v2:\n",
    "        player1.append(v1)\n",
    "        player1.append(v2)\n",
    "    elif v1 < v2:\n",
    "        player2.append(v2)\n",
    "        player2.append(v1)\n",
    "winner = ['player1' if len(player1) > len(player2) else 'player2'][0]\n",
    "print(winner)\n"
   ]
  },
  {
   "cell_type": "code",
   "execution_count": 43,
   "metadata": {},
   "outputs": [
    {
     "name": "stdout",
     "output_type": "stream",
     "text": [
      "soln: 34127\n"
     ]
    }
   ],
   "source": [
    "soln = 0\n",
    "for i,val in enumerate(eval(winner)[::-1]):\n",
    "    soln += (val * (i+1))\n",
    "print(f\"soln: {soln}\")"
   ]
  },
  {
   "cell_type": "code",
   "execution_count": null,
   "metadata": {},
   "outputs": [],
   "source": [
    "# not solved part 2 yet"
   ]
  },
  {
   "cell_type": "code",
   "execution_count": null,
   "metadata": {},
   "outputs": [],
   "source": []
  },
  {
   "cell_type": "code",
   "execution_count": null,
   "metadata": {},
   "outputs": [],
   "source": []
  }
 ],
 "metadata": {
  "kernelspec": {
   "display_name": "Python 3",
   "language": "python",
   "name": "python3"
  },
  "language_info": {
   "codemirror_mode": {
    "name": "ipython",
    "version": 3
   },
   "file_extension": ".py",
   "mimetype": "text/x-python",
   "name": "python",
   "nbconvert_exporter": "python",
   "pygments_lexer": "ipython3",
   "version": "3.8.5"
  }
 },
 "nbformat": 4,
 "nbformat_minor": 4
}
