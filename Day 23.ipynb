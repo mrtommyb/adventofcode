{
 "cells": [
  {
   "cell_type": "code",
   "execution_count": 164,
   "metadata": {},
   "outputs": [],
   "source": [
    "# from itertools import cycle\n",
    "from tqdm import tqdm"
   ]
  },
  {
   "cell_type": "code",
   "execution_count": 32,
   "metadata": {},
   "outputs": [],
   "source": [
    "starting = '315679824'\n"
   ]
  },
  {
   "cell_type": "markdown",
   "metadata": {},
   "source": [
    "##### Rules\n",
    "Each move, the crab does the following actions:\n",
    "\n",
    "*    The crab picks up the three cups that are immediately clockwise of the current cup. They are removed from the circle; cup spacing is adjusted as necessary to maintain the circle.\n",
    "*    The crab selects a destination cup: the cup with a label equal to the current cup's label minus one. If this would select one of the cups that was just picked up, the crab will keep subtracting one until it finds a cup that wasn't just picked up. If at any point in this process the value goes below the lowest value on any cup's label, it wraps around to the highest value on any cup's label instead.\n",
    "*   The crab places the cups it just picked up so that they are immediately clockwise of the destination cup. They keep the same order as when they were picked up.\n",
    "*   The crab selects a new current cup: the cup which is immediately clockwise of the current cup.\n"
   ]
  },
  {
   "cell_type": "code",
   "execution_count": 148,
   "metadata": {},
   "outputs": [],
   "source": [
    "cups = list(map(int, starting) )\n",
    "\n",
    "lowest = min(cups)\n",
    "highest = max(cups)\n",
    "\n",
    "for i in range(100):\n",
    "    current = cups[0]\n",
    "    removed = cups[1:4]\n",
    "    cups_with_removed = list([cups[0]])\n",
    "    cups_with_removed.extend(cups[4:])\n",
    "    destination = current - 1\n",
    "    while True:\n",
    "        if destination < lowest:\n",
    "            destination = highest\n",
    "        elif (destination) in removed:\n",
    "            destination -= 1\n",
    "        else:\n",
    "            break\n",
    "    cup_len = len(cups_with_removed)\n",
    "    idx = [i for i,x in enumerate(cups_with_removed) if x == destination][0]\n",
    "    new_cups = [cups_with_removed[idx]]\n",
    "    new_cups.extend(removed)\n",
    "    [new_cups.insert(0, x) for x in cups_with_removed[idx-1:0:-1]]\n",
    "    [new_cups.append(x) for x in cups_with_removed[idx+1:]]\n",
    "    new_cups.append(current)\n",
    "#     [new_cups.append(cups_with_removed[i%cup_len]) for i in range(idx+1, idx+cup_len)]\n",
    "    cups = new_cups\n",
    "\n",
    "# to fix: need to cups with index lower than idx before the first value in new_cups, and the idx higher agetr"
   ]
  },
  {
   "cell_type": "code",
   "execution_count": 152,
   "metadata": {},
   "outputs": [
    {
     "name": "stdout",
     "output_type": "stream",
     "text": [
      "soln: 72496583\n"
     ]
    }
   ],
   "source": [
    "cups\n",
    "idx = [i for i,x in enumerate(cups) if x == 1][0]\n",
    "final_cups = []\n",
    "[final_cups.append(cups[i%len(cups)]) for i in range(idx+1, idx+len(cups))]\n",
    "print(\"soln: \" + \"\".join([str(x) for x in final_cups]))"
   ]
  },
  {
   "cell_type": "code",
   "execution_count": null,
   "metadata": {},
   "outputs": [],
   "source": [
    "# part 2 not solved"
   ]
  },
  {
   "cell_type": "code",
   "execution_count": null,
   "metadata": {},
   "outputs": [],
   "source": [
    ". .   . .   . .\n",
    "   . .   . .   . .\n",
    ". .   . .   . .\n",
    "   . .   . .   . ."
   ]
  },
  {
   "cell_type": "code",
   "execution_count": null,
   "metadata": {},
   "outputs": [],
   "source": []
  },
  {
   "cell_type": "code",
   "execution_count": null,
   "metadata": {},
   "outputs": [],
   "source": []
  },
  {
   "cell_type": "code",
   "execution_count": null,
   "metadata": {},
   "outputs": [],
   "source": []
  },
  {
   "cell_type": "code",
   "execution_count": null,
   "metadata": {},
   "outputs": [],
   "source": []
  },
  {
   "cell_type": "code",
   "execution_count": null,
   "metadata": {},
   "outputs": [],
   "source": []
  },
  {
   "cell_type": "code",
   "execution_count": null,
   "metadata": {},
   "outputs": [],
   "source": []
  },
  {
   "cell_type": "code",
   "execution_count": null,
   "metadata": {},
   "outputs": [],
   "source": []
  },
  {
   "cell_type": "code",
   "execution_count": null,
   "metadata": {},
   "outputs": [],
   "source": []
  }
 ],
 "metadata": {
  "kernelspec": {
   "display_name": "Python 3",
   "language": "python",
   "name": "python3"
  },
  "language_info": {
   "codemirror_mode": {
    "name": "ipython",
    "version": 3
   },
   "file_extension": ".py",
   "mimetype": "text/x-python",
   "name": "python",
   "nbconvert_exporter": "python",
   "pygments_lexer": "ipython3",
   "version": "3.8.5"
  }
 },
 "nbformat": 4,
 "nbformat_minor": 4
}
