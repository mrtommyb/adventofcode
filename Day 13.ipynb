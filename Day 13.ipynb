{
 "cells": [
  {
   "cell_type": "code",
   "execution_count": 22,
   "metadata": {},
   "outputs": [],
   "source": [
    "import numpy as np\n",
    "\n",
    "from IPython.display import clear_output"
   ]
  },
  {
   "cell_type": "code",
   "execution_count": 2,
   "metadata": {},
   "outputs": [],
   "source": [
    "fn = 'data/input13.txt'"
   ]
  },
  {
   "cell_type": "code",
   "execution_count": 3,
   "metadata": {},
   "outputs": [],
   "source": [
    "with open(fn, \"r\") as file:\n",
    "    fdata = file.read()\n",
    "    \n",
    "    fdata = fdata.split('\\n')\n",
    "    timestamp = int(fdata[0])\n",
    "\n",
    "busdata = np.genfromtxt(fn, dtype=str, delimiter=',', skip_header=1)\n"
   ]
  },
  {
   "cell_type": "code",
   "execution_count": 4,
   "metadata": {},
   "outputs": [
    {
     "name": "stdout",
     "output_type": "stream",
     "text": [
      "soln: 4315\n"
     ]
    }
   ],
   "source": [
    "smallest = [np.inf, np.inf]\n",
    "for t in busdata:\n",
    "    if t != 'x':\n",
    "        wait = int(t) - (timestamp % int(t))\n",
    "        if wait < smallest[1]:\n",
    "            smallest[1] = wait\n",
    "            smallest[0] = int(t)\n",
    "print(f'soln: {smallest[0] * smallest[1]}')"
   ]
  },
  {
   "cell_type": "markdown",
   "metadata": {},
   "source": [
    "# part 2"
   ]
  },
  {
   "cell_type": "code",
   "execution_count": 24,
   "metadata": {},
   "outputs": [
    {
     "name": "stdout",
     "output_type": "stream",
     "text": [
      "1068781\n"
     ]
    }
   ],
   "source": [
    "# run the test case\n",
    "vals = np.array([[7,0],[13,1],[59,4],[31, 6],[19,7]])\n",
    "n = vals.shape[0]\n",
    "t = 1\n",
    "while True:\n",
    "    success = np.ones_like(vals[:,0], dtype=bool)\n",
    "    for i in range(n):\n",
    "        if not np.equal(np.mod(((t+vals[i][1]) / vals[i][0]), 1), 0):\n",
    "            success[i] = False\n",
    "            break\n",
    "    if np.all(success):\n",
    "        print(t)\n",
    "        break\n",
    "    else:\n",
    "        t += 1\n",
    "        if (t % 100000) == 0:\n",
    "            clear_output(wait=True)\n",
    "    "
   ]
  },
  {
   "cell_type": "markdown",
   "metadata": {},
   "source": [
    "### the test case works but this method is too slow for the full case"
   ]
  },
  {
   "cell_type": "code",
   "execution_count": 7,
   "metadata": {},
   "outputs": [],
   "source": []
  },
  {
   "cell_type": "code",
   "execution_count": 26,
   "metadata": {},
   "outputs": [],
   "source": [
    "# get the data in a useful form\n",
    "required = {}\n",
    "for i,n in enumerate(busdata):\n",
    "    if n != 'x':\n",
    "      required[int(n)] = int(i) \n",
    "vals = np.array(list(required.items()))\n",
    "step_vals = vals[np.argmax(vals[:, 0])]"
   ]
  },
  {
   "cell_type": "code",
   "execution_count": 27,
   "metadata": {},
   "outputs": [
    {
     "name": "stdout",
     "output_type": "stream",
     "text": [
      "556100168221141\n"
     ]
    }
   ],
   "source": [
    "t = 0\n",
    "n = vals.shape[0]\n",
    "step = vals[0][0]\n",
    "for i in range(1, n):\n",
    "#     num_loops = 0\n",
    "    while True:\n",
    "        if (t + vals[i][1]) % vals[i][0] == 0:\n",
    "            step *= vals[i][0]\n",
    "            break\n",
    "        else:\n",
    "#             num_loops += 1\n",
    "            t += step\n",
    "print(t)"
   ]
  },
  {
   "cell_type": "code",
   "execution_count": null,
   "metadata": {},
   "outputs": [],
   "source": []
  },
  {
   "cell_type": "code",
   "execution_count": null,
   "metadata": {},
   "outputs": [],
   "source": []
  },
  {
   "cell_type": "code",
   "execution_count": null,
   "metadata": {},
   "outputs": [],
   "source": []
  },
  {
   "cell_type": "code",
   "execution_count": null,
   "metadata": {},
   "outputs": [],
   "source": []
  },
  {
   "cell_type": "code",
   "execution_count": null,
   "metadata": {},
   "outputs": [],
   "source": []
  }
 ],
 "metadata": {
  "kernelspec": {
   "display_name": "Python 3",
   "language": "python",
   "name": "python3"
  },
  "language_info": {
   "codemirror_mode": {
    "name": "ipython",
    "version": 3
   },
   "file_extension": ".py",
   "mimetype": "text/x-python",
   "name": "python",
   "nbconvert_exporter": "python",
   "pygments_lexer": "ipython3",
   "version": "3.8.5"
  }
 },
 "nbformat": 4,
 "nbformat_minor": 4
}
