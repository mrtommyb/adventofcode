{
 "cells": [
  {
   "cell_type": "code",
   "execution_count": 18,
   "metadata": {},
   "outputs": [],
   "source": [
    "import numpy as np\n",
    "from itertools import count\n",
    "\n",
    "from IPython.display import clear_output"
   ]
  },
  {
   "cell_type": "code",
   "execution_count": 2,
   "metadata": {},
   "outputs": [],
   "source": [
    "fn = 'data/input13.txt'"
   ]
  },
  {
   "cell_type": "code",
   "execution_count": 3,
   "metadata": {},
   "outputs": [],
   "source": [
    "with open(fn, \"r\") as file:\n",
    "    fdata = file.read()\n",
    "    \n",
    "    fdata = fdata.split('\\n')\n",
    "    timestamp = int(fdata[0])\n",
    "\n",
    "busdata = np.genfromtxt(fn, dtype=str, delimiter=',', skip_header=1)\n"
   ]
  },
  {
   "cell_type": "code",
   "execution_count": 4,
   "metadata": {},
   "outputs": [
    {
     "name": "stdout",
     "output_type": "stream",
     "text": [
      "soln: 4315\n"
     ]
    }
   ],
   "source": [
    "smallest = [np.inf, np.inf]\n",
    "for t in busdata:\n",
    "    if t != 'x':\n",
    "        wait = int(t) - (timestamp % int(t))\n",
    "        if wait < smallest[1]:\n",
    "            smallest[1] = wait\n",
    "            smallest[0] = int(t)\n",
    "print(f'soln: {smallest[0] * smallest[1]}')"
   ]
  },
  {
   "cell_type": "code",
   "execution_count": 59,
   "metadata": {},
   "outputs": [],
   "source": [
    "required = {}\n",
    "for i,n in enumerate(busdata):\n",
    "    if n != 'x':\n",
    "      required[int(i)] = int(n)  \n",
    "\n",
    "# # key is offset, value is bus number"
   ]
  },
  {
   "cell_type": "code",
   "execution_count": 6,
   "metadata": {},
   "outputs": [],
   "source": [
    "# # timestamp = 0\n",
    "# # for k, v in d:\n",
    "# #       for c in count(timestamp, step):\n",
    "# #     if (c + offs) % bus == 0:\n",
    "# #       t, step = c, step * bus\n",
    "# #       break\n",
    "# # print 'part 2: %d' % t\n",
    "\n",
    "# positions = [x for x in required.values()]"
   ]
  },
  {
   "cell_type": "code",
   "execution_count": 7,
   "metadata": {},
   "outputs": [],
   "source": [
    "# # timestamp = 0\n",
    "# # step = 1\n",
    "# for t in cou\n",
    "\n",
    "# [x for x in required.values()]"
   ]
  },
  {
   "cell_type": "code",
   "execution_count": 54,
   "metadata": {},
   "outputs": [
    {
     "name": "stdout",
     "output_type": "stream",
     "text": [
      "1000000\n",
      "1068781\n"
     ]
    }
   ],
   "source": [
    "# run the test case\n",
    "vals = np.array([[7,0],[13,1],[59,4],[31, 6],[19,7]])\n",
    "n = vals.shape[0]\n",
    "t = 1\n",
    "while True:\n",
    "    success = np.ones_like(vals[:,0], dtype=bool)\n",
    "    for i in range(n):\n",
    "        if not np.equal(np.mod(((t+vals[i][1]) / vals[i][0]), 1), 0):\n",
    "            success[i] = False\n",
    "            break\n",
    "    if np.all(success):\n",
    "        print(t)\n",
    "        break\n",
    "    else:\n",
    "        t += 1\n",
    "        if (t % 100000) == 0:\n",
    "            clear_output(wait=True)\n",
    "            print(t)\n",
    "    "
   ]
  },
  {
   "cell_type": "code",
   "execution_count": 97,
   "metadata": {},
   "outputs": [],
   "source": [
    "\n",
    "required = {}\n",
    "for i,n in enumerate(busdata):\n",
    "    if n != 'x':\n",
    "      required[int(n)] = int(i) \n",
    "vals = np.array(list(required.items()))\n",
    "step_vals = vals[np.argmax(vals[:, 0])]"
   ]
  },
  {
   "cell_type": "code",
   "execution_count": null,
   "metadata": {},
   "outputs": [
    {
     "name": "stdout",
     "output_type": "stream",
     "text": [
      "540007800000\n"
     ]
    }
   ],
   "source": [
    "# vals = np.array([[7,0],[13,1],[59,4],[31, 6],[19,7]])\n",
    "n = vals.shape[0]\n",
    "t = step_vals[1]\n",
    "step = step_vals[0]\n",
    "while True:\n",
    "    success = np.ones_like(vals[:,0], dtype=bool)\n",
    "    for i in range(n):\n",
    "        if not np.equal(np.mod(((t+vals[i][1]) / vals[i][0]), 1), 0):\n",
    "            success[i] = False\n",
    "            break\n",
    "    if np.all(success):\n",
    "        print(t)\n",
    "        break\n",
    "    else:\n",
    "        t += step\n",
    "        if (t % 100000) == 0:\n",
    "            clear_output(wait=True)\n",
    "            print(t)"
   ]
  },
  {
   "cell_type": "code",
   "execution_count": null,
   "metadata": {},
   "outputs": [],
   "source": [
    "\n"
   ]
  },
  {
   "cell_type": "code",
   "execution_count": null,
   "metadata": {},
   "outputs": [],
   "source": []
  },
  {
   "cell_type": "code",
   "execution_count": null,
   "metadata": {},
   "outputs": [],
   "source": []
  },
  {
   "cell_type": "code",
   "execution_count": null,
   "metadata": {},
   "outputs": [],
   "source": []
  }
 ],
 "metadata": {
  "kernelspec": {
   "display_name": "Python 3",
   "language": "python",
   "name": "python3"
  },
  "language_info": {
   "codemirror_mode": {
    "name": "ipython",
    "version": 3
   },
   "file_extension": ".py",
   "mimetype": "text/x-python",
   "name": "python",
   "nbconvert_exporter": "python",
   "pygments_lexer": "ipython3",
   "version": "3.8.5"
  }
 },
 "nbformat": 4,
 "nbformat_minor": 4
}
